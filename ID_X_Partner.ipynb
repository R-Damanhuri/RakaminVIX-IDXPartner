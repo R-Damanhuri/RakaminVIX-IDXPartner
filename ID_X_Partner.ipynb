{
  "nbformat": 4,
  "nbformat_minor": 0,
  "metadata": {
    "colab": {
      "provenance": []
    },
    "kernelspec": {
      "name": "python3",
      "display_name": "Python 3"
    },
    "language_info": {
      "name": "python"
    }
  },
  "cells": [
    {
      "cell_type": "markdown",
      "source": [
        "# Import Libraries"
      ],
      "metadata": {
        "id": "x53uFmxPJ33V"
      }
    },
    {
      "cell_type": "code",
      "execution_count": 1,
      "metadata": {
        "id": "_fwW0RT45HLO"
      },
      "outputs": [],
      "source": [
        "import pandas as pd\n",
        "import numpy as np\n",
        "import seaborn as sns\n",
        "import matplotlib.pyplot as plt\n",
        "from sklearn.preprocessing import StandardScaler\n",
        "from sklearn.utils import resample\n",
        "from sklearn.model_selection import train_test_split\n",
        "from sklearn.ensemble import RandomForestClassifier\n",
        "from sklearn.tree import DecisionTreeClassifier\n",
        "from sklearn.neighbors import KNeighborsClassifier\n",
        "from xgboost import XGBClassifier\n",
        "\n",
        "from sklearn.model_selection import RandomizedSearchCV\n",
        "from sklearn import model_selection\n",
        "from sklearn.metrics import classification_report\n",
        "from sklearn.metrics import roc_auc_score\n",
        "import warnings\n",
        "warnings.filterwarnings('ignore')"
      ]
    },
    {
      "cell_type": "markdown",
      "source": [
        "# Import Dataset"
      ],
      "metadata": {
        "id": "fRO11gITJ7Hp"
      }
    },
    {
      "cell_type": "code",
      "source": [
        "df = pd.read_csv(\"/content/loan_data_2007_2014.csv\", low_memory=False)"
      ],
      "metadata": {
        "id": "pnA0xu7p5nC5"
      },
      "execution_count": 2,
      "outputs": []
    },
    {
      "cell_type": "markdown",
      "source": [
        "# Data Understanding"
      ],
      "metadata": {
        "id": "FNkSOXO6J-7-"
      }
    },
    {
      "cell_type": "markdown",
      "source": [
        "## Isi"
      ],
      "metadata": {
        "id": "_tomnwomKdaZ"
      }
    },
    {
      "cell_type": "code",
      "source": [
        "df.head()"
      ],
      "metadata": {
        "colab": {
          "base_uri": "https://localhost:8080/",
          "height": 404
        },
        "id": "xD6YXDvS5u_G",
        "outputId": "c3875c15-96b9-4b87-fe4f-9f70e8565664"
      },
      "execution_count": 3,
      "outputs": [
        {
          "output_type": "execute_result",
          "data": {
            "text/plain": [
              "   Unnamed: 0       id  member_id  loan_amnt  funded_amnt  funded_amnt_inv  \\\n",
              "0           0  1077501    1296599       5000         5000           4975.0   \n",
              "1           1  1077430    1314167       2500         2500           2500.0   \n",
              "2           2  1077175    1313524       2400         2400           2400.0   \n",
              "3           3  1076863    1277178      10000        10000          10000.0   \n",
              "4           4  1075358    1311748       3000         3000           3000.0   \n",
              "\n",
              "         term  int_rate  installment grade  ... total_bal_il il_util  \\\n",
              "0   36 months     10.65       162.87     B  ...          NaN     NaN   \n",
              "1   60 months     15.27        59.83     C  ...          NaN     NaN   \n",
              "2   36 months     15.96        84.33     C  ...          NaN     NaN   \n",
              "3   36 months     13.49       339.31     C  ...          NaN     NaN   \n",
              "4   60 months     12.69        67.79     B  ...          NaN     NaN   \n",
              "\n",
              "  open_rv_12m open_rv_24m  max_bal_bc all_util total_rev_hi_lim inq_fi  \\\n",
              "0         NaN         NaN         NaN      NaN              NaN    NaN   \n",
              "1         NaN         NaN         NaN      NaN              NaN    NaN   \n",
              "2         NaN         NaN         NaN      NaN              NaN    NaN   \n",
              "3         NaN         NaN         NaN      NaN              NaN    NaN   \n",
              "4         NaN         NaN         NaN      NaN              NaN    NaN   \n",
              "\n",
              "  total_cu_tl inq_last_12m  \n",
              "0         NaN          NaN  \n",
              "1         NaN          NaN  \n",
              "2         NaN          NaN  \n",
              "3         NaN          NaN  \n",
              "4         NaN          NaN  \n",
              "\n",
              "[5 rows x 75 columns]"
            ],
            "text/html": [
              "\n",
              "  <div id=\"df-ffdd1adb-2ff5-4a1c-942d-6d63b0379354\">\n",
              "    <div class=\"colab-df-container\">\n",
              "      <div>\n",
              "<style scoped>\n",
              "    .dataframe tbody tr th:only-of-type {\n",
              "        vertical-align: middle;\n",
              "    }\n",
              "\n",
              "    .dataframe tbody tr th {\n",
              "        vertical-align: top;\n",
              "    }\n",
              "\n",
              "    .dataframe thead th {\n",
              "        text-align: right;\n",
              "    }\n",
              "</style>\n",
              "<table border=\"1\" class=\"dataframe\">\n",
              "  <thead>\n",
              "    <tr style=\"text-align: right;\">\n",
              "      <th></th>\n",
              "      <th>Unnamed: 0</th>\n",
              "      <th>id</th>\n",
              "      <th>member_id</th>\n",
              "      <th>loan_amnt</th>\n",
              "      <th>funded_amnt</th>\n",
              "      <th>funded_amnt_inv</th>\n",
              "      <th>term</th>\n",
              "      <th>int_rate</th>\n",
              "      <th>installment</th>\n",
              "      <th>grade</th>\n",
              "      <th>...</th>\n",
              "      <th>total_bal_il</th>\n",
              "      <th>il_util</th>\n",
              "      <th>open_rv_12m</th>\n",
              "      <th>open_rv_24m</th>\n",
              "      <th>max_bal_bc</th>\n",
              "      <th>all_util</th>\n",
              "      <th>total_rev_hi_lim</th>\n",
              "      <th>inq_fi</th>\n",
              "      <th>total_cu_tl</th>\n",
              "      <th>inq_last_12m</th>\n",
              "    </tr>\n",
              "  </thead>\n",
              "  <tbody>\n",
              "    <tr>\n",
              "      <th>0</th>\n",
              "      <td>0</td>\n",
              "      <td>1077501</td>\n",
              "      <td>1296599</td>\n",
              "      <td>5000</td>\n",
              "      <td>5000</td>\n",
              "      <td>4975.0</td>\n",
              "      <td>36 months</td>\n",
              "      <td>10.65</td>\n",
              "      <td>162.87</td>\n",
              "      <td>B</td>\n",
              "      <td>...</td>\n",
              "      <td>NaN</td>\n",
              "      <td>NaN</td>\n",
              "      <td>NaN</td>\n",
              "      <td>NaN</td>\n",
              "      <td>NaN</td>\n",
              "      <td>NaN</td>\n",
              "      <td>NaN</td>\n",
              "      <td>NaN</td>\n",
              "      <td>NaN</td>\n",
              "      <td>NaN</td>\n",
              "    </tr>\n",
              "    <tr>\n",
              "      <th>1</th>\n",
              "      <td>1</td>\n",
              "      <td>1077430</td>\n",
              "      <td>1314167</td>\n",
              "      <td>2500</td>\n",
              "      <td>2500</td>\n",
              "      <td>2500.0</td>\n",
              "      <td>60 months</td>\n",
              "      <td>15.27</td>\n",
              "      <td>59.83</td>\n",
              "      <td>C</td>\n",
              "      <td>...</td>\n",
              "      <td>NaN</td>\n",
              "      <td>NaN</td>\n",
              "      <td>NaN</td>\n",
              "      <td>NaN</td>\n",
              "      <td>NaN</td>\n",
              "      <td>NaN</td>\n",
              "      <td>NaN</td>\n",
              "      <td>NaN</td>\n",
              "      <td>NaN</td>\n",
              "      <td>NaN</td>\n",
              "    </tr>\n",
              "    <tr>\n",
              "      <th>2</th>\n",
              "      <td>2</td>\n",
              "      <td>1077175</td>\n",
              "      <td>1313524</td>\n",
              "      <td>2400</td>\n",
              "      <td>2400</td>\n",
              "      <td>2400.0</td>\n",
              "      <td>36 months</td>\n",
              "      <td>15.96</td>\n",
              "      <td>84.33</td>\n",
              "      <td>C</td>\n",
              "      <td>...</td>\n",
              "      <td>NaN</td>\n",
              "      <td>NaN</td>\n",
              "      <td>NaN</td>\n",
              "      <td>NaN</td>\n",
              "      <td>NaN</td>\n",
              "      <td>NaN</td>\n",
              "      <td>NaN</td>\n",
              "      <td>NaN</td>\n",
              "      <td>NaN</td>\n",
              "      <td>NaN</td>\n",
              "    </tr>\n",
              "    <tr>\n",
              "      <th>3</th>\n",
              "      <td>3</td>\n",
              "      <td>1076863</td>\n",
              "      <td>1277178</td>\n",
              "      <td>10000</td>\n",
              "      <td>10000</td>\n",
              "      <td>10000.0</td>\n",
              "      <td>36 months</td>\n",
              "      <td>13.49</td>\n",
              "      <td>339.31</td>\n",
              "      <td>C</td>\n",
              "      <td>...</td>\n",
              "      <td>NaN</td>\n",
              "      <td>NaN</td>\n",
              "      <td>NaN</td>\n",
              "      <td>NaN</td>\n",
              "      <td>NaN</td>\n",
              "      <td>NaN</td>\n",
              "      <td>NaN</td>\n",
              "      <td>NaN</td>\n",
              "      <td>NaN</td>\n",
              "      <td>NaN</td>\n",
              "    </tr>\n",
              "    <tr>\n",
              "      <th>4</th>\n",
              "      <td>4</td>\n",
              "      <td>1075358</td>\n",
              "      <td>1311748</td>\n",
              "      <td>3000</td>\n",
              "      <td>3000</td>\n",
              "      <td>3000.0</td>\n",
              "      <td>60 months</td>\n",
              "      <td>12.69</td>\n",
              "      <td>67.79</td>\n",
              "      <td>B</td>\n",
              "      <td>...</td>\n",
              "      <td>NaN</td>\n",
              "      <td>NaN</td>\n",
              "      <td>NaN</td>\n",
              "      <td>NaN</td>\n",
              "      <td>NaN</td>\n",
              "      <td>NaN</td>\n",
              "      <td>NaN</td>\n",
              "      <td>NaN</td>\n",
              "      <td>NaN</td>\n",
              "      <td>NaN</td>\n",
              "    </tr>\n",
              "  </tbody>\n",
              "</table>\n",
              "<p>5 rows × 75 columns</p>\n",
              "</div>\n",
              "      <button class=\"colab-df-convert\" onclick=\"convertToInteractive('df-ffdd1adb-2ff5-4a1c-942d-6d63b0379354')\"\n",
              "              title=\"Convert this dataframe to an interactive table.\"\n",
              "              style=\"display:none;\">\n",
              "        \n",
              "  <svg xmlns=\"http://www.w3.org/2000/svg\" height=\"24px\"viewBox=\"0 0 24 24\"\n",
              "       width=\"24px\">\n",
              "    <path d=\"M0 0h24v24H0V0z\" fill=\"none\"/>\n",
              "    <path d=\"M18.56 5.44l.94 2.06.94-2.06 2.06-.94-2.06-.94-.94-2.06-.94 2.06-2.06.94zm-11 1L8.5 8.5l.94-2.06 2.06-.94-2.06-.94L8.5 2.5l-.94 2.06-2.06.94zm10 10l.94 2.06.94-2.06 2.06-.94-2.06-.94-.94-2.06-.94 2.06-2.06.94z\"/><path d=\"M17.41 7.96l-1.37-1.37c-.4-.4-.92-.59-1.43-.59-.52 0-1.04.2-1.43.59L10.3 9.45l-7.72 7.72c-.78.78-.78 2.05 0 2.83L4 21.41c.39.39.9.59 1.41.59.51 0 1.02-.2 1.41-.59l7.78-7.78 2.81-2.81c.8-.78.8-2.07 0-2.86zM5.41 20L4 18.59l7.72-7.72 1.47 1.35L5.41 20z\"/>\n",
              "  </svg>\n",
              "      </button>\n",
              "      \n",
              "  <style>\n",
              "    .colab-df-container {\n",
              "      display:flex;\n",
              "      flex-wrap:wrap;\n",
              "      gap: 12px;\n",
              "    }\n",
              "\n",
              "    .colab-df-convert {\n",
              "      background-color: #E8F0FE;\n",
              "      border: none;\n",
              "      border-radius: 50%;\n",
              "      cursor: pointer;\n",
              "      display: none;\n",
              "      fill: #1967D2;\n",
              "      height: 32px;\n",
              "      padding: 0 0 0 0;\n",
              "      width: 32px;\n",
              "    }\n",
              "\n",
              "    .colab-df-convert:hover {\n",
              "      background-color: #E2EBFA;\n",
              "      box-shadow: 0px 1px 2px rgba(60, 64, 67, 0.3), 0px 1px 3px 1px rgba(60, 64, 67, 0.15);\n",
              "      fill: #174EA6;\n",
              "    }\n",
              "\n",
              "    [theme=dark] .colab-df-convert {\n",
              "      background-color: #3B4455;\n",
              "      fill: #D2E3FC;\n",
              "    }\n",
              "\n",
              "    [theme=dark] .colab-df-convert:hover {\n",
              "      background-color: #434B5C;\n",
              "      box-shadow: 0px 1px 3px 1px rgba(0, 0, 0, 0.15);\n",
              "      filter: drop-shadow(0px 1px 2px rgba(0, 0, 0, 0.3));\n",
              "      fill: #FFFFFF;\n",
              "    }\n",
              "  </style>\n",
              "\n",
              "      <script>\n",
              "        const buttonEl =\n",
              "          document.querySelector('#df-ffdd1adb-2ff5-4a1c-942d-6d63b0379354 button.colab-df-convert');\n",
              "        buttonEl.style.display =\n",
              "          google.colab.kernel.accessAllowed ? 'block' : 'none';\n",
              "\n",
              "        async function convertToInteractive(key) {\n",
              "          const element = document.querySelector('#df-ffdd1adb-2ff5-4a1c-942d-6d63b0379354');\n",
              "          const dataTable =\n",
              "            await google.colab.kernel.invokeFunction('convertToInteractive',\n",
              "                                                     [key], {});\n",
              "          if (!dataTable) return;\n",
              "\n",
              "          const docLinkHtml = 'Like what you see? Visit the ' +\n",
              "            '<a target=\"_blank\" href=https://colab.research.google.com/notebooks/data_table.ipynb>data table notebook</a>'\n",
              "            + ' to learn more about interactive tables.';\n",
              "          element.innerHTML = '';\n",
              "          dataTable['output_type'] = 'display_data';\n",
              "          await google.colab.output.renderOutput(dataTable, element);\n",
              "          const docLink = document.createElement('div');\n",
              "          docLink.innerHTML = docLinkHtml;\n",
              "          element.appendChild(docLink);\n",
              "        }\n",
              "      </script>\n",
              "    </div>\n",
              "  </div>\n",
              "  "
            ]
          },
          "metadata": {},
          "execution_count": 3
        }
      ]
    },
    {
      "cell_type": "code",
      "source": [
        "df.shape"
      ],
      "metadata": {
        "colab": {
          "base_uri": "https://localhost:8080/"
        },
        "id": "5gHwyTKU5ywr",
        "outputId": "6f8a70b8-fa4c-4a41-964c-ed3df148c57e"
      },
      "execution_count": 4,
      "outputs": [
        {
          "output_type": "execute_result",
          "data": {
            "text/plain": [
              "(276210, 75)"
            ]
          },
          "metadata": {},
          "execution_count": 4
        }
      ]
    },
    {
      "cell_type": "code",
      "source": [
        "df.info()"
      ],
      "metadata": {
        "colab": {
          "base_uri": "https://localhost:8080/"
        },
        "id": "_W-qsEl2521p",
        "outputId": "2ebd80ff-cd98-43bd-903e-0a3621784f22"
      },
      "execution_count": 5,
      "outputs": [
        {
          "output_type": "stream",
          "name": "stdout",
          "text": [
            "<class 'pandas.core.frame.DataFrame'>\n",
            "RangeIndex: 276210 entries, 0 to 276209\n",
            "Data columns (total 75 columns):\n",
            " #   Column                       Non-Null Count   Dtype  \n",
            "---  ------                       --------------   -----  \n",
            " 0   Unnamed: 0                   276210 non-null  int64  \n",
            " 1   id                           276210 non-null  int64  \n",
            " 2   member_id                    276210 non-null  int64  \n",
            " 3   loan_amnt                    276210 non-null  int64  \n",
            " 4   funded_amnt                  276210 non-null  int64  \n",
            " 5   funded_amnt_inv              276210 non-null  float64\n",
            " 6   term                         276210 non-null  object \n",
            " 7   int_rate                     276210 non-null  float64\n",
            " 8   installment                  276210 non-null  float64\n",
            " 9   grade                        276210 non-null  object \n",
            " 10  sub_grade                    276210 non-null  object \n",
            " 11  emp_title                    259422 non-null  object \n",
            " 12  emp_length                   264787 non-null  object \n",
            " 13  home_ownership               276210 non-null  object \n",
            " 14  annual_inc                   276206 non-null  float64\n",
            " 15  verification_status          276210 non-null  object \n",
            " 16  issue_d                      276210 non-null  object \n",
            " 17  loan_status                  276210 non-null  object \n",
            " 18  pymnt_plan                   276210 non-null  object \n",
            " 19  url                          276210 non-null  object \n",
            " 20  desc                         110709 non-null  object \n",
            " 21  purpose                      276210 non-null  object \n",
            " 22  title                        276189 non-null  object \n",
            " 23  zip_code                     276209 non-null  object \n",
            " 24  addr_state                   276209 non-null  object \n",
            " 25  dti                          276209 non-null  float64\n",
            " 26  delinq_2yrs                  276180 non-null  float64\n",
            " 27  earliest_cr_line             276180 non-null  object \n",
            " 28  inq_last_6mths               276180 non-null  float64\n",
            " 29  mths_since_last_delinq       120017 non-null  float64\n",
            " 30  mths_since_last_record       28613 non-null   float64\n",
            " 31  open_acc                     276180 non-null  float64\n",
            " 32  pub_rec                      276180 non-null  float64\n",
            " 33  revol_bal                    276209 non-null  float64\n",
            " 34  revol_util                   275970 non-null  float64\n",
            " 35  total_acc                    276180 non-null  float64\n",
            " 36  initial_list_status          276209 non-null  object \n",
            " 37  out_prncp                    276209 non-null  float64\n",
            " 38  out_prncp_inv                276209 non-null  float64\n",
            " 39  total_pymnt                  276209 non-null  float64\n",
            " 40  total_pymnt_inv              276209 non-null  float64\n",
            " 41  total_rec_prncp              276209 non-null  float64\n",
            " 42  total_rec_int                276209 non-null  float64\n",
            " 43  total_rec_late_fee           276209 non-null  float64\n",
            " 44  recoveries                   276209 non-null  float64\n",
            " 45  collection_recovery_fee      276209 non-null  float64\n",
            " 46  last_pymnt_d                 275950 non-null  object \n",
            " 47  last_pymnt_amnt              276209 non-null  float64\n",
            " 48  next_pymnt_d                 108800 non-null  object \n",
            " 49  last_credit_pull_d           276188 non-null  object \n",
            " 50  collections_12_mths_ex_med   276064 non-null  float64\n",
            " 51  mths_since_last_major_derog  45443 non-null   float64\n",
            " 52  policy_code                  276209 non-null  float64\n",
            " 53  application_type             276209 non-null  object \n",
            " 54  annual_inc_joint             0 non-null       float64\n",
            " 55  dti_joint                    0 non-null       float64\n",
            " 56  verification_status_joint    0 non-null       float64\n",
            " 57  acc_now_delinq               276180 non-null  float64\n",
            " 58  tot_coll_amt                 205933 non-null  float64\n",
            " 59  tot_cur_bal                  205933 non-null  float64\n",
            " 60  open_acc_6m                  0 non-null       float64\n",
            " 61  open_il_6m                   0 non-null       float64\n",
            " 62  open_il_12m                  0 non-null       float64\n",
            " 63  open_il_24m                  0 non-null       float64\n",
            " 64  mths_since_rcnt_il           0 non-null       float64\n",
            " 65  total_bal_il                 0 non-null       float64\n",
            " 66  il_util                      0 non-null       float64\n",
            " 67  open_rv_12m                  0 non-null       float64\n",
            " 68  open_rv_24m                  0 non-null       float64\n",
            " 69  max_bal_bc                   0 non-null       float64\n",
            " 70  all_util                     0 non-null       float64\n",
            " 71  total_rev_hi_lim             205933 non-null  float64\n",
            " 72  inq_fi                       0 non-null       float64\n",
            " 73  total_cu_tl                  0 non-null       float64\n",
            " 74  inq_last_12m                 0 non-null       float64\n",
            "dtypes: float64(48), int64(5), object(22)\n",
            "memory usage: 158.0+ MB\n"
          ]
        }
      ]
    },
    {
      "cell_type": "markdown",
      "source": [
        "## Target"
      ],
      "metadata": {
        "id": "6aE0e0QrKhl2"
      }
    },
    {
      "cell_type": "markdown",
      "source": [
        "Target prediksi dapat didasarkan pada feature loan_status, tetapi dengan pengolahan terlebih dahulu."
      ],
      "metadata": {
        "id": "7EVyXOS5Lr4H"
      }
    },
    {
      "cell_type": "code",
      "source": [
        "df.loan_status.value_counts()"
      ],
      "metadata": {
        "colab": {
          "base_uri": "https://localhost:8080/"
        },
        "id": "9TtRgjINC0U2",
        "outputId": "af5d44d2-afbf-4487-f5e2-00f771003e21"
      },
      "execution_count": 6,
      "outputs": [
        {
          "output_type": "execute_result",
          "data": {
            "text/plain": [
              "Fully Paid                                             137359\n",
              "Current                                                100636\n",
              "Charged Off                                             30050\n",
              "Late (31-120 days)                                       3061\n",
              "Does not meet the credit policy. Status:Fully Paid       1988\n",
              "In Grace Period                                          1495\n",
              "Does not meet the credit policy. Status:Charged Off       761\n",
              "Late (16-30 days)                                         522\n",
              "Default                                                   338\n",
              "Name: loan_status, dtype: int64"
            ]
          },
          "metadata": {},
          "execution_count": 6
        }
      ]
    },
    {
      "cell_type": "markdown",
      "source": [
        "loan_status yang tidak dibutuhkan untuk prediksi adalah 'Current' dan 'In Grace Period' karena belum diketahui berisiko bad loan atau good loan. Karena itu, data yang mengandung kedua value akan dihapus."
      ],
      "metadata": {
        "id": "N152buIRL8WZ"
      }
    },
    {
      "cell_type": "code",
      "source": [
        "#membuang rows yang ada current dan in grace period\n",
        "to_drop1 = ['Current', 'In Grace Period']\n",
        "df = df[df.loan_status.isin(to_drop1) == False]"
      ],
      "metadata": {
        "id": "RA6wTNFXEiaQ"
      },
      "execution_count": 7,
      "outputs": []
    },
    {
      "cell_type": "markdown",
      "source": [
        "Dari value pada loan_status, status yang berkorelasi dengan good loan atau berisiko rendah adalah 'Fully Paid' dan 'Does not meet the credit policy. Status:Fully Paid'. Sisanya berkorelasi dengan bad loan. <br>\n",
        "\n",
        "Karena itu, dilakukan mapping untuk penyederhanaan value. Good loan dilambangkan dengan integer 1, bad loan integer 0."
      ],
      "metadata": {
        "id": "5kx2bV34MSXM"
      }
    },
    {
      "cell_type": "code",
      "source": [
        "#memilah loan status\n",
        "low_risk = ['Fully Paid', 'Does not meet the credit policy. Status:Fully Paid']\n",
        "\n",
        "#membuat kolom baru untuk mengklasifikasi\n",
        "df['target'] = np.where(df['loan_status'].isin(low_risk), 1, 0)"
      ],
      "metadata": {
        "id": "QYxgqSxQE_dT"
      },
      "execution_count": 8,
      "outputs": []
    },
    {
      "cell_type": "code",
      "source": [
        "df.shape"
      ],
      "metadata": {
        "colab": {
          "base_uri": "https://localhost:8080/"
        },
        "id": "z3EcyLxjQFYE",
        "outputId": "70ce3f32-ccef-48bc-f6c5-08c51ec66a25"
      },
      "execution_count": 9,
      "outputs": [
        {
          "output_type": "execute_result",
          "data": {
            "text/plain": [
              "(174079, 76)"
            ]
          },
          "metadata": {},
          "execution_count": 9
        }
      ]
    },
    {
      "cell_type": "code",
      "source": [
        "df['target'].value_counts()"
      ],
      "metadata": {
        "colab": {
          "base_uri": "https://localhost:8080/"
        },
        "id": "3d8bpPK8QXzi",
        "outputId": "44425cbd-5591-48e8-f62c-21df0a7db732"
      },
      "execution_count": 10,
      "outputs": [
        {
          "output_type": "execute_result",
          "data": {
            "text/plain": [
              "1    139347\n",
              "0     34732\n",
              "Name: target, dtype: int64"
            ]
          },
          "metadata": {},
          "execution_count": 10
        }
      ]
    },
    {
      "cell_type": "code",
      "source": [
        "df['target'].value_counts(normalize=True)"
      ],
      "metadata": {
        "colab": {
          "base_uri": "https://localhost:8080/"
        },
        "id": "L-bjjQi7M6W5",
        "outputId": "4cdf239f-5dc9-4952-f735-a0d125354fd3"
      },
      "execution_count": 11,
      "outputs": [
        {
          "output_type": "execute_result",
          "data": {
            "text/plain": [
              "1    0.800481\n",
              "0    0.199519\n",
              "Name: target, dtype: float64"
            ]
          },
          "metadata": {},
          "execution_count": 11
        }
      ]
    },
    {
      "cell_type": "markdown",
      "source": [
        "Melihat perbadingan data untuk kedua target. Terlihat dataset tidak seimbang. Nantinya akan dilakukan imbalance handling dengan upsampling dan downsampling."
      ],
      "metadata": {
        "id": "HrSXjOMcNDfy"
      }
    },
    {
      "cell_type": "markdown",
      "source": [
        "# Eksplorasi"
      ],
      "metadata": {
        "id": "wWLi5IGIK8jY"
      }
    },
    {
      "cell_type": "markdown",
      "source": [
        "**STATUS PINJAMAN DAN TOTAL PEMBAYARAN YANG DITERIMA**"
      ],
      "metadata": {
        "id": "BLZTIkLZNYGj"
      }
    },
    {
      "cell_type": "code",
      "source": [
        "x = \"target\"\n",
        "y = \"total_pymnt\"\n",
        "plt.figure(figsize=(10,10))\n",
        "sns.boxplot(data = df, x=x , y=y, palette = \"Spectral\")\n",
        "plt.title(\"DIST TOTAL PEMBAYARAN YANG DITERIMA\")\n",
        "plt.ylabel(\"\")\n",
        "plt.show()\n",
        "\n",
        "df.groupby(x)[y].describe()"
      ],
      "metadata": {
        "colab": {
          "base_uri": "https://localhost:8080/",
          "height": 747
        },
        "id": "02ia0PaYNS33",
        "outputId": "a9f3e1d1-339e-4c89-8a21-85582c20bad9"
      },
      "execution_count": 12,
      "outputs": [
        {
          "output_type": "display_data",
          "data": {
            "text/plain": [
              "<Figure size 720x720 with 1 Axes>"
            ],
            "image/png": "[encoded data removed]"
          },
          "metadata": {
            "needs_background": "light"
          }
        },
        {
          "output_type": "execute_result",
          "data": {
            "text/plain": [
              "           count          mean          std     min       25%        50%  \\\n",
              "target                                                                     \n",
              "0        34732.0   7701.600269  6259.982536    0.00  3108.630   6055.075   \n",
              "1       139347.0  14989.642913  9471.797683  503.54  7836.125  12724.230   \n",
              "\n",
              "                75%          max  \n",
              "target                            \n",
              "0       10526.06250  50197.03000  \n",
              "1       20185.36638  57777.57987  "
            ],
            "text/html": [
              "\n",
              "  <div id=\"df-f179aad2-524a-4832-a978-a70db0d4bf8f\">\n",
              "    <div class=\"colab-df-container\">\n",
              "      <div>\n",
              "<style scoped>\n",
              "    .dataframe tbody tr th:only-of-type {\n",
              "        vertical-align: middle;\n",
              "    }\n",
              "\n",
              "    .dataframe tbody tr th {\n",
              "        vertical-align: top;\n",
              "    }\n",
              "\n",
              "    .dataframe thead th {\n",
              "        text-align: right;\n",
              "    }\n",
              "</style>\n",
              "<table border=\"1\" class=\"dataframe\">\n",
              "  <thead>\n",
              "    <tr style=\"text-align: right;\">\n",
              "      <th></th>\n",
              "      <th>count</th>\n",
              "      <th>mean</th>\n",
              "      <th>std</th>\n",
              "      <th>min</th>\n",
              "      <th>25%</th>\n",
              "      <th>50%</th>\n",
              "      <th>75%</th>\n",
              "      <th>max</th>\n",
              "    </tr>\n",
              "    <tr>\n",
              "      <th>target</th>\n",
              "      <th></th>\n",
              "      <th></th>\n",
              "      <th></th>\n",
              "      <th></th>\n",
              "      <th></th>\n",
              "      <th></th>\n",
              "      <th></th>\n",
              "      <th></th>\n",
              "    </tr>\n",
              "  </thead>\n",
              "  <tbody>\n",
              "    <tr>\n",
              "      <th>0</th>\n",
              "      <td>34732.0</td>\n",
              "      <td>7701.600269</td>\n",
              "      <td>6259.982536</td>\n",
              "      <td>0.00</td>\n",
              "      <td>3108.630</td>\n",
              "      <td>6055.075</td>\n",
              "      <td>10526.06250</td>\n",
              "      <td>50197.03000</td>\n",
              "    </tr>\n",
              "    <tr>\n",
              "      <th>1</th>\n",
              "      <td>139347.0</td>\n",
              "      <td>14989.642913</td>\n",
              "      <td>9471.797683</td>\n",
              "      <td>503.54</td>\n",
              "      <td>7836.125</td>\n",
              "      <td>12724.230</td>\n",
              "      <td>20185.36638</td>\n",
              "      <td>57777.57987</td>\n",
              "    </tr>\n",
              "  </tbody>\n",
              "</table>\n",
              "</div>\n",
              "      <button class=\"colab-df-convert\" onclick=\"convertToInteractive('df-f179aad2-524a-4832-a978-a70db0d4bf8f')\"\n",
              "              title=\"Convert this dataframe to an interactive table.\"\n",
              "              style=\"display:none;\">\n",
              "        \n",
              "  <svg xmlns=\"http://www.w3.org/2000/svg\" height=\"24px\"viewBox=\"0 0 24 24\"\n",
              "       width=\"24px\">\n",
              "    <path d=\"M0 0h24v24H0V0z\" fill=\"none\"/>\n",
              "    <path d=\"M18.56 5.44l.94 2.06.94-2.06 2.06-.94-2.06-.94-.94-2.06-.94 2.06-2.06.94zm-11 1L8.5 8.5l.94-2.06 2.06-.94-2.06-.94L8.5 2.5l-.94 2.06-2.06.94zm10 10l.94 2.06.94-2.06 2.06-.94-2.06-.94-.94-2.06-.94 2.06-2.06.94z\"/><path d=\"M17.41 7.96l-1.37-1.37c-.4-.4-.92-.59-1.43-.59-.52 0-1.04.2-1.43.59L10.3 9.45l-7.72 7.72c-.78.78-.78 2.05 0 2.83L4 21.41c.39.39.9.59 1.41.59.51 0 1.02-.2 1.41-.59l7.78-7.78 2.81-2.81c.8-.78.8-2.07 0-2.86zM5.41 20L4 18.59l7.72-7.72 1.47 1.35L5.41 20z\"/>\n",
              "  </svg>\n",
              "      </button>\n",
              "      \n",
              "  <style>\n",
              "    .colab-df-container {\n",
              "      display:flex;\n",
              "      flex-wrap:wrap;\n",
              "      gap: 12px;\n",
              "    }\n",
              "\n",
              "    .colab-df-convert {\n",
              "      background-color: #E8F0FE;\n",
              "      border: none;\n",
              "      border-radius: 50%;\n",
              "      cursor: pointer;\n",
              "      display: none;\n",
              "      fill: #1967D2;\n",
              "      height: 32px;\n",
              "      padding: 0 0 0 0;\n",
              "      width: 32px;\n",
              "    }\n",
              "\n",
              "    .colab-df-convert:hover {\n",
              "      background-color: #E2EBFA;\n",
              "      box-shadow: 0px 1px 2px rgba(60, 64, 67, 0.3), 0px 1px 3px 1px rgba(60, 64, 67, 0.15);\n",
              "      fill: #174EA6;\n",
              "    }\n",
              "\n",
              "    [theme=dark] .colab-df-convert {\n",
              "      background-color: #3B4455;\n",
              "      fill: #D2E3FC;\n",
              "    }\n",
              "\n",
              "    [theme=dark] .colab-df-convert:hover {\n",
              "      background-color: #434B5C;\n",
              "      box-shadow: 0px 1px 3px 1px rgba(0, 0, 0, 0.15);\n",
              "      filter: drop-shadow(0px 1px 2px rgba(0, 0, 0, 0.3));\n",
              "      fill: #FFFFFF;\n",
              "    }\n",
              "  </style>\n",
              "\n",
              "      <script>\n",
              "        const buttonEl =\n",
              "          document.querySelector('#df-f179aad2-524a-4832-a978-a70db0d4bf8f button.colab-df-convert');\n",
              "        buttonEl.style.display =\n",
              "          google.colab.kernel.accessAllowed ? 'block' : 'none';\n",
              "\n",
              "        async function convertToInteractive(key) {\n",
              "          const element = document.querySelector('#df-f179aad2-524a-4832-a978-a70db0d4bf8f');\n",
              "          const dataTable =\n",
              "            await google.colab.kernel.invokeFunction('convertToInteractive',\n",
              "                                                     [key], {});\n",
              "          if (!dataTable) return;\n",
              "\n",
              "          const docLinkHtml = 'Like what you see? Visit the ' +\n",
              "            '<a target=\"_blank\" href=https://colab.research.google.com/notebooks/data_table.ipynb>data table notebook</a>'\n",
              "            + ' to learn more about interactive tables.';\n",
              "          element.innerHTML = '';\n",
              "          dataTable['output_type'] = 'display_data';\n",
              "          await google.colab.output.renderOutput(dataTable, element);\n",
              "          const docLink = document.createElement('div');\n",
              "          docLink.innerHTML = docLinkHtml;\n",
              "          element.appendChild(docLink);\n",
              "        }\n",
              "      </script>\n",
              "    </div>\n",
              "  </div>\n",
              "  "
            ]
          },
          "metadata": {},
          "execution_count": 12
        }
      ]
    },
    {
      "cell_type": "markdown",
      "source": [
        "Dapat dilihat dari plot diatas menunjukkan total pembayaran terbanyak ada pada pinjaman berstatus berhasil / baik"
      ],
      "metadata": {
        "id": "pS977h5vNxef"
      }
    },
    {
      "cell_type": "markdown",
      "source": [
        "**STATUS PINJAMAN DAN JUMLAH PINJAMAN**"
      ],
      "metadata": {
        "id": "-VF--XXHNrIC"
      }
    },
    {
      "cell_type": "code",
      "source": [
        "x = \"target\"\n",
        "y = \"loan_amnt\"\n",
        "\n",
        "plt.figure(figsize=(10,10))\n",
        "sns.boxplot(data = df, x=x , y=y, palette = \"Spectral\")\n",
        "plt.title(\"DIST TOTAL PINJAMAN\")\n",
        "plt.ylabel(\"\")\n",
        "plt.show()\n",
        "\n",
        "df.groupby(x)[y].describe()"
      ],
      "metadata": {
        "colab": {
          "base_uri": "https://localhost:8080/",
          "height": 747
        },
        "id": "TphwCdozNY8F",
        "outputId": "8925d4a9-987d-45cb-a76a-de29ccbaf690"
      },
      "execution_count": 13,
      "outputs": [
        {
          "output_type": "display_data",
          "data": {
            "text/plain": [
              "<Figure size 720x720 with 1 Axes>"
            ],
            "image/png": "[encoded data removed]"
          },
          "metadata": {
            "needs_background": "light"
          }
        },
        {
          "output_type": "execute_result",
          "data": {
            "text/plain": [
              "           count          mean          std    min     25%      50%      75%  \\\n",
              "target                                                                         \n",
              "0        34732.0  14378.858114  8388.520166  500.0  8000.0  12200.0  20000.0   \n",
              "1       139347.0  12861.747293  7821.436141  500.0  7000.0  11000.0  17600.0   \n",
              "\n",
              "            max  \n",
              "target           \n",
              "0       35000.0  \n",
              "1       35000.0  "
            ],
            "text/html": [
              "\n",
              "  <div id=\"df-cf42a82a-b22a-4908-b1d0-644e34bd50af\">\n",
              "    <div class=\"colab-df-container\">\n",
              "      <div>\n",
              "<style scoped>\n",
              "    .dataframe tbody tr th:only-of-type {\n",
              "        vertical-align: middle;\n",
              "    }\n",
              "\n",
              "    .dataframe tbody tr th {\n",
              "        vertical-align: top;\n",
              "    }\n",
              "\n",
              "    .dataframe thead th {\n",
              "        text-align: right;\n",
              "    }\n",
              "</style>\n",
              "<table border=\"1\" class=\"dataframe\">\n",
              "  <thead>\n",
              "    <tr style=\"text-align: right;\">\n",
              "      <th></th>\n",
              "      <th>count</th>\n",
              "      <th>mean</th>\n",
              "      <th>std</th>\n",
              "      <th>min</th>\n",
              "      <th>25%</th>\n",
              "      <th>50%</th>\n",
              "      <th>75%</th>\n",
              "      <th>max</th>\n",
              "    </tr>\n",
              "    <tr>\n",
              "      <th>target</th>\n",
              "      <th></th>\n",
              "      <th></th>\n",
              "      <th></th>\n",
              "      <th></th>\n",
              "      <th></th>\n",
              "      <th></th>\n",
              "      <th></th>\n",
              "      <th></th>\n",
              "    </tr>\n",
              "  </thead>\n",
              "  <tbody>\n",
              "    <tr>\n",
              "      <th>0</th>\n",
              "      <td>34732.0</td>\n",
              "      <td>14378.858114</td>\n",
              "      <td>8388.520166</td>\n",
              "      <td>500.0</td>\n",
              "      <td>8000.0</td>\n",
              "      <td>12200.0</td>\n",
              "      <td>20000.0</td>\n",
              "      <td>35000.0</td>\n",
              "    </tr>\n",
              "    <tr>\n",
              "      <th>1</th>\n",
              "      <td>139347.0</td>\n",
              "      <td>12861.747293</td>\n",
              "      <td>7821.436141</td>\n",
              "      <td>500.0</td>\n",
              "      <td>7000.0</td>\n",
              "      <td>11000.0</td>\n",
              "      <td>17600.0</td>\n",
              "      <td>35000.0</td>\n",
              "    </tr>\n",
              "  </tbody>\n",
              "</table>\n",
              "</div>\n",
              "      <button class=\"colab-df-convert\" onclick=\"convertToInteractive('df-cf42a82a-b22a-4908-b1d0-644e34bd50af')\"\n",
              "              title=\"Convert this dataframe to an interactive table.\"\n",
              "              style=\"display:none;\">\n",
              "        \n",
              "  <svg xmlns=\"http://www.w3.org/2000/svg\" height=\"24px\"viewBox=\"0 0 24 24\"\n",
              "       width=\"24px\">\n",
              "    <path d=\"M0 0h24v24H0V0z\" fill=\"none\"/>\n",
              "    <path d=\"M18.56 5.44l.94 2.06.94-2.06 2.06-.94-2.06-.94-.94-2.06-.94 2.06-2.06.94zm-11 1L8.5 8.5l.94-2.06 2.06-.94-2.06-.94L8.5 2.5l-.94 2.06-2.06.94zm10 10l.94 2.06.94-2.06 2.06-.94-2.06-.94-.94-2.06-.94 2.06-2.06.94z\"/><path d=\"M17.41 7.96l-1.37-1.37c-.4-.4-.92-.59-1.43-.59-.52 0-1.04.2-1.43.59L10.3 9.45l-7.72 7.72c-.78.78-.78 2.05 0 2.83L4 21.41c.39.39.9.59 1.41.59.51 0 1.02-.2 1.41-.59l7.78-7.78 2.81-2.81c.8-.78.8-2.07 0-2.86zM5.41 20L4 18.59l7.72-7.72 1.47 1.35L5.41 20z\"/>\n",
              "  </svg>\n",
              "      </button>\n",
              "      \n",
              "  <style>\n",
              "    .colab-df-container {\n",
              "      display:flex;\n",
              "      flex-wrap:wrap;\n",
              "      gap: 12px;\n",
              "    }\n",
              "\n",
              "    .colab-df-convert {\n",
              "      background-color: #E8F0FE;\n",
              "      border: none;\n",
              "      border-radius: 50%;\n",
              "      cursor: pointer;\n",
              "      display: none;\n",
              "      fill: #1967D2;\n",
              "      height: 32px;\n",
              "      padding: 0 0 0 0;\n",
              "      width: 32px;\n",
              "    }\n",
              "\n",
              "    .colab-df-convert:hover {\n",
              "      background-color: #E2EBFA;\n",
              "      box-shadow: 0px 1px 2px rgba(60, 64, 67, 0.3), 0px 1px 3px 1px rgba(60, 64, 67, 0.15);\n",
              "      fill: #174EA6;\n",
              "    }\n",
              "\n",
              "    [theme=dark] .colab-df-convert {\n",
              "      background-color: #3B4455;\n",
              "      fill: #D2E3FC;\n",
              "    }\n",
              "\n",
              "    [theme=dark] .colab-df-convert:hover {\n",
              "      background-color: #434B5C;\n",
              "      box-shadow: 0px 1px 3px 1px rgba(0, 0, 0, 0.15);\n",
              "      filter: drop-shadow(0px 1px 2px rgba(0, 0, 0, 0.3));\n",
              "      fill: #FFFFFF;\n",
              "    }\n",
              "  </style>\n",
              "\n",
              "      <script>\n",
              "        const buttonEl =\n",
              "          document.querySelector('#df-cf42a82a-b22a-4908-b1d0-644e34bd50af button.colab-df-convert');\n",
              "        buttonEl.style.display =\n",
              "          google.colab.kernel.accessAllowed ? 'block' : 'none';\n",
              "\n",
              "        async function convertToInteractive(key) {\n",
              "          const element = document.querySelector('#df-cf42a82a-b22a-4908-b1d0-644e34bd50af');\n",
              "          const dataTable =\n",
              "            await google.colab.kernel.invokeFunction('convertToInteractive',\n",
              "                                                     [key], {});\n",
              "          if (!dataTable) return;\n",
              "\n",
              "          const docLinkHtml = 'Like what you see? Visit the ' +\n",
              "            '<a target=\"_blank\" href=https://colab.research.google.com/notebooks/data_table.ipynb>data table notebook</a>'\n",
              "            + ' to learn more about interactive tables.';\n",
              "          element.innerHTML = '';\n",
              "          dataTable['output_type'] = 'display_data';\n",
              "          await google.colab.output.renderOutput(dataTable, element);\n",
              "          const docLink = document.createElement('div');\n",
              "          docLink.innerHTML = docLinkHtml;\n",
              "          element.appendChild(docLink);\n",
              "        }\n",
              "      </script>\n",
              "    </div>\n",
              "  </div>\n",
              "  "
            ]
          },
          "metadata": {},
          "execution_count": 13
        }
      ]
    },
    {
      "cell_type": "markdown",
      "source": [
        "Jumlah pinjaman terbanyak ada pada status baik sedangkan rata rata nya berada pada status buruk"
      ],
      "metadata": {
        "id": "GMp-CtwzNzQf"
      }
    },
    {
      "cell_type": "markdown",
      "source": [
        "**TUJUAN MENGGUNAKAN PINJAMAN**"
      ],
      "metadata": {
        "id": "p9eLnn09N2tP"
      }
    },
    {
      "cell_type": "code",
      "source": [
        "value_counts =df[\"purpose\"].value_counts()\n",
        "\n",
        "plt.figure(figsize=(10,10))\n",
        "sns.countplot(y= \"purpose\", order = value_counts.index, data = df, palette = \"Spectral\")\n",
        "plt.show()\n",
        "\n",
        "percentage = value_counts / value_counts.sum()\n",
        "percentage = percentage.apply(\"{:.2%}\".format)\n",
        "print(percentage)"
      ],
      "metadata": {
        "colab": {
          "base_uri": "https://localhost:8080/",
          "height": 880
        },
        "id": "2LohSsqNNidE",
        "outputId": "8d0da54d-203d-458f-f3b8-fdd2509e2b1f"
      },
      "execution_count": 14,
      "outputs": [
        {
          "output_type": "display_data",
          "data": {
            "text/plain": [
              "<Figure size 720x720 with 1 Axes>"
            ],
            "image/png": "[encoded data removed]"
          },
          "metadata": {
            "needs_background": "light"
          }
        },
        {
          "output_type": "stream",
          "name": "stdout",
          "text": [
            "debt_consolidation    56.64%\n",
            "credit_card           19.48%\n",
            "other                  6.22%\n",
            "home_improvement       5.88%\n",
            "major_purchase         2.83%\n",
            "small_business         2.36%\n",
            "car                    1.72%\n",
            "wedding                1.16%\n",
            "medical                1.13%\n",
            "moving                 0.85%\n",
            "house                  0.73%\n",
            "vacation               0.63%\n",
            "educational            0.24%\n",
            "renewable_energy       0.12%\n",
            "Name: purpose, dtype: object\n"
          ]
        }
      ]
    },
    {
      "cell_type": "markdown",
      "source": [
        "Hampir 60% Peminjaman digunakan untuk menutup hutang sebelumnya, sedangkan tujuan lain antara lain untuk perbaikan rumah dan sedikit sekali digunakan untuk pendidikan, kesehatan maupun pembaruan energi"
      ],
      "metadata": {
        "id": "nuB4yrseN9zh"
      }
    },
    {
      "cell_type": "markdown",
      "source": [
        "**NEGARA ASAL PEMINJAM**"
      ],
      "metadata": {
        "id": "IMwFQ0DpN9ri"
      }
    },
    {
      "cell_type": "code",
      "source": [
        "value_counts = df[\"addr_state\"].value_counts()\n",
        "\n",
        "plt.figure(figsize=(10,10))\n",
        "sns.countplot(y= \"addr_state\",order=value_counts.index, data = df, palette = \"Spectral\")\n",
        "plt.show()\n",
        "\n",
        "percentage = value_counts / value_counts.sum()\n",
        "percentage = percentage.apply(\"{:.2%}\".format)\n",
        "print(percentage)"
      ],
      "metadata": {
        "colab": {
          "base_uri": "https://localhost:8080/",
          "height": 1000
        },
        "id": "nsuDrV1fO1Wi",
        "outputId": "0844c362-204c-48f6-a7c6-cbcd2cab618d"
      },
      "execution_count": 15,
      "outputs": [
        {
          "output_type": "display_data",
          "data": {
            "text/plain": [
              "<Figure size 720x720 with 1 Axes>"
            ],
            "image/png": "[encoded data removed]"
          },
          "metadata": {
            "needs_background": "light"
          }
        },
        {
          "output_type": "stream",
          "name": "stdout",
          "text": [
            "CA    17.39%\n",
            "NY     8.85%\n",
            "TX     7.52%\n",
            "FL     7.05%\n",
            "NJ     3.97%\n",
            "IL     3.70%\n",
            "PA     3.38%\n",
            "VA     3.19%\n",
            "GA     3.18%\n",
            "OH     3.05%\n",
            "NC     2.67%\n",
            "MA     2.57%\n",
            "MD     2.38%\n",
            "AZ     2.34%\n",
            "WA     2.32%\n",
            "MI     2.23%\n",
            "CO     2.10%\n",
            "MN     1.70%\n",
            "MO     1.59%\n",
            "CT     1.58%\n",
            "NV     1.48%\n",
            "OR     1.29%\n",
            "AL     1.20%\n",
            "WI     1.18%\n",
            "LA     1.16%\n",
            "SC     1.09%\n",
            "KY     0.88%\n",
            "KS     0.84%\n",
            "OK     0.83%\n",
            "UT     0.80%\n",
            "IN     0.79%\n",
            "TN     0.71%\n",
            "AR     0.70%\n",
            "HI     0.59%\n",
            "NM     0.53%\n",
            "NH     0.45%\n",
            "RI     0.44%\n",
            "WV     0.44%\n",
            "DC     0.36%\n",
            "MT     0.28%\n",
            "AK     0.28%\n",
            "DE     0.26%\n",
            "WY     0.23%\n",
            "SD     0.21%\n",
            "VT     0.15%\n",
            "MS     0.05%\n",
            "NE     0.01%\n",
            "IA     0.01%\n",
            "ID     0.01%\n",
            "ME     0.00%\n",
            "Name: addr_state, dtype: object\n"
          ]
        }
      ]
    },
    {
      "cell_type": "markdown",
      "source": [
        "Peminjam sebagian besar berasal dari negara California"
      ],
      "metadata": {
        "id": "FaX97BtwOJsf"
      }
    },
    {
      "cell_type": "markdown",
      "source": [
        "**STATUS KEPEMILIKAN RUMAH**"
      ],
      "metadata": {
        "id": "KSYTAF18OKZc"
      }
    },
    {
      "cell_type": "code",
      "source": [
        "plt.figure(figsize=(10,10))\n",
        "sns.countplot(y= \"home_ownership\", data = df, palette = \"Spectral\")\n",
        "plt.show()"
      ],
      "metadata": {
        "colab": {
          "base_uri": "https://localhost:8080/",
          "height": 606
        },
        "id": "K4yi4qdmPGCv",
        "outputId": "4037ae9f-57f3-4829-a9e1-a39c8e12c8b6"
      },
      "execution_count": 16,
      "outputs": [
        {
          "output_type": "display_data",
          "data": {
            "text/plain": [
              "<Figure size 720x720 with 1 Axes>"
            ],
            "image/png": "[encoded data removed]"
          },
          "metadata": {
            "needs_background": "light"
          }
        }
      ]
    },
    {
      "cell_type": "markdown",
      "source": [
        "Terlihat sebagian besar pinjaman mengalokasikan rumahnya sebagai pinjaman. Dan peminjam tampak sedikit yang memiliki rumah pribadi"
      ],
      "metadata": {
        "id": "HSnmBTpUOQlk"
      }
    },
    {
      "cell_type": "markdown",
      "source": [
        "**TINGKATAN PEMINJAMAN**"
      ],
      "metadata": {
        "id": "Xh0IFsUAOPcH"
      }
    },
    {
      "cell_type": "code",
      "source": [
        "x = \"int_rate\"\n",
        "y = \"grade\"\n",
        "order = df[y].sort_values().unique()\n",
        "plt.figure(figsize=(10,10))\n",
        "sns.boxplot(data=df, x=x, y=y , order=order,palette = \"Spectral\")\n",
        "plt.show()\n",
        "\n",
        "df.groupby(y)[x].describe()"
      ],
      "metadata": {
        "colab": {
          "base_uri": "https://localhost:8080/",
          "height": 889
        },
        "id": "UuM4IVPVPRjd",
        "outputId": "f4835d2e-4f57-452d-ca2f-69f7a54224de"
      },
      "execution_count": 17,
      "outputs": [
        {
          "output_type": "display_data",
          "data": {
            "text/plain": [
              "<Figure size 720x720 with 1 Axes>"
            ],
            "image/png": "[encoded data removed]"
          },
          "metadata": {
            "needs_background": "light"
          }
        },
        {
          "output_type": "execute_result",
          "data": {
            "text/plain": [
              "         count       mean       std    min    25%    50%    75%    max\n",
              "grade                                                                 \n",
              "A      31271.0   7.544820  1.020310   5.42   6.62   7.62   8.19   9.63\n",
              "B      55868.0  11.721499  1.286182   6.00  10.74  11.86  12.85  14.09\n",
              "C      42821.0  14.944874  1.316102   6.00  13.99  15.10  15.81  17.27\n",
              "D      26025.0  17.755380  1.596713   6.00  16.99  17.99  18.85  20.31\n",
              "E      11671.0  20.241228  2.159514   6.00  19.03  21.00  21.70  23.40\n",
              "F       5117.0  22.702378  2.247834   6.00  22.45  23.50  24.08  25.57\n",
              "G       1306.0  23.465704  2.682848  16.59  21.14  24.70  25.80  26.06"
            ],
            "text/html": [
              "\n",
              "  <div id=\"df-98ae6d9a-3cae-4556-abdf-57814eab9c1c\">\n",
              "    <div class=\"colab-df-container\">\n",
              "      <div>\n",
              "<style scoped>\n",
              "    .dataframe tbody tr th:only-of-type {\n",
              "        vertical-align: middle;\n",
              "    }\n",
              "\n",
              "    .dataframe tbody tr th {\n",
              "        vertical-align: top;\n",
              "    }\n",
              "\n",
              "    .dataframe thead th {\n",
              "        text-align: right;\n",
              "    }\n",
              "</style>\n",
              "<table border=\"1\" class=\"dataframe\">\n",
              "  <thead>\n",
              "    <tr style=\"text-align: right;\">\n",
              "      <th></th>\n",
              "      <th>count</th>\n",
              "      <th>mean</th>\n",
              "      <th>std</th>\n",
              "      <th>min</th>\n",
              "      <th>25%</th>\n",
              "      <th>50%</th>\n",
              "      <th>75%</th>\n",
              "      <th>max</th>\n",
              "    </tr>\n",
              "    <tr>\n",
              "      <th>grade</th>\n",
              "      <th></th>\n",
              "      <th></th>\n",
              "      <th></th>\n",
              "      <th></th>\n",
              "      <th></th>\n",
              "      <th></th>\n",
              "      <th></th>\n",
              "      <th></th>\n",
              "    </tr>\n",
              "  </thead>\n",
              "  <tbody>\n",
              "    <tr>\n",
              "      <th>A</th>\n",
              "      <td>31271.0</td>\n",
              "      <td>7.544820</td>\n",
              "      <td>1.020310</td>\n",
              "      <td>5.42</td>\n",
              "      <td>6.62</td>\n",
              "      <td>7.62</td>\n",
              "      <td>8.19</td>\n",
              "      <td>9.63</td>\n",
              "    </tr>\n",
              "    <tr>\n",
              "      <th>B</th>\n",
              "      <td>55868.0</td>\n",
              "      <td>11.721499</td>\n",
              "      <td>1.286182</td>\n",
              "      <td>6.00</td>\n",
              "      <td>10.74</td>\n",
              "      <td>11.86</td>\n",
              "      <td>12.85</td>\n",
              "      <td>14.09</td>\n",
              "    </tr>\n",
              "    <tr>\n",
              "      <th>C</th>\n",
              "      <td>42821.0</td>\n",
              "      <td>14.944874</td>\n",
              "      <td>1.316102</td>\n",
              "      <td>6.00</td>\n",
              "      <td>13.99</td>\n",
              "      <td>15.10</td>\n",
              "      <td>15.81</td>\n",
              "      <td>17.27</td>\n",
              "    </tr>\n",
              "    <tr>\n",
              "      <th>D</th>\n",
              "      <td>26025.0</td>\n",
              "      <td>17.755380</td>\n",
              "      <td>1.596713</td>\n",
              "      <td>6.00</td>\n",
              "      <td>16.99</td>\n",
              "      <td>17.99</td>\n",
              "      <td>18.85</td>\n",
              "      <td>20.31</td>\n",
              "    </tr>\n",
              "    <tr>\n",
              "      <th>E</th>\n",
              "      <td>11671.0</td>\n",
              "      <td>20.241228</td>\n",
              "      <td>2.159514</td>\n",
              "      <td>6.00</td>\n",
              "      <td>19.03</td>\n",
              "      <td>21.00</td>\n",
              "      <td>21.70</td>\n",
              "      <td>23.40</td>\n",
              "    </tr>\n",
              "    <tr>\n",
              "      <th>F</th>\n",
              "      <td>5117.0</td>\n",
              "      <td>22.702378</td>\n",
              "      <td>2.247834</td>\n",
              "      <td>6.00</td>\n",
              "      <td>22.45</td>\n",
              "      <td>23.50</td>\n",
              "      <td>24.08</td>\n",
              "      <td>25.57</td>\n",
              "    </tr>\n",
              "    <tr>\n",
              "      <th>G</th>\n",
              "      <td>1306.0</td>\n",
              "      <td>23.465704</td>\n",
              "      <td>2.682848</td>\n",
              "      <td>16.59</td>\n",
              "      <td>21.14</td>\n",
              "      <td>24.70</td>\n",
              "      <td>25.80</td>\n",
              "      <td>26.06</td>\n",
              "    </tr>\n",
              "  </tbody>\n",
              "</table>\n",
              "</div>\n",
              "      <button class=\"colab-df-convert\" onclick=\"convertToInteractive('df-98ae6d9a-3cae-4556-abdf-57814eab9c1c')\"\n",
              "              title=\"Convert this dataframe to an interactive table.\"\n",
              "              style=\"display:none;\">\n",
              "        \n",
              "  <svg xmlns=\"http://www.w3.org/2000/svg\" height=\"24px\"viewBox=\"0 0 24 24\"\n",
              "       width=\"24px\">\n",
              "    <path d=\"M0 0h24v24H0V0z\" fill=\"none\"/>\n",
              "    <path d=\"M18.56 5.44l.94 2.06.94-2.06 2.06-.94-2.06-.94-.94-2.06-.94 2.06-2.06.94zm-11 1L8.5 8.5l.94-2.06 2.06-.94-2.06-.94L8.5 2.5l-.94 2.06-2.06.94zm10 10l.94 2.06.94-2.06 2.06-.94-2.06-.94-.94-2.06-.94 2.06-2.06.94z\"/><path d=\"M17.41 7.96l-1.37-1.37c-.4-.4-.92-.59-1.43-.59-.52 0-1.04.2-1.43.59L10.3 9.45l-7.72 7.72c-.78.78-.78 2.05 0 2.83L4 21.41c.39.39.9.59 1.41.59.51 0 1.02-.2 1.41-.59l7.78-7.78 2.81-2.81c.8-.78.8-2.07 0-2.86zM5.41 20L4 18.59l7.72-7.72 1.47 1.35L5.41 20z\"/>\n",
              "  </svg>\n",
              "      </button>\n",
              "      \n",
              "  <style>\n",
              "    .colab-df-container {\n",
              "      display:flex;\n",
              "      flex-wrap:wrap;\n",
              "      gap: 12px;\n",
              "    }\n",
              "\n",
              "    .colab-df-convert {\n",
              "      background-color: #E8F0FE;\n",
              "      border: none;\n",
              "      border-radius: 50%;\n",
              "      cursor: pointer;\n",
              "      display: none;\n",
              "      fill: #1967D2;\n",
              "      height: 32px;\n",
              "      padding: 0 0 0 0;\n",
              "      width: 32px;\n",
              "    }\n",
              "\n",
              "    .colab-df-convert:hover {\n",
              "      background-color: #E2EBFA;\n",
              "      box-shadow: 0px 1px 2px rgba(60, 64, 67, 0.3), 0px 1px 3px 1px rgba(60, 64, 67, 0.15);\n",
              "      fill: #174EA6;\n",
              "    }\n",
              "\n",
              "    [theme=dark] .colab-df-convert {\n",
              "      background-color: #3B4455;\n",
              "      fill: #D2E3FC;\n",
              "    }\n",
              "\n",
              "    [theme=dark] .colab-df-convert:hover {\n",
              "      background-color: #434B5C;\n",
              "      box-shadow: 0px 1px 3px 1px rgba(0, 0, 0, 0.15);\n",
              "      filter: drop-shadow(0px 1px 2px rgba(0, 0, 0, 0.3));\n",
              "      fill: #FFFFFF;\n",
              "    }\n",
              "  </style>\n",
              "\n",
              "      <script>\n",
              "        const buttonEl =\n",
              "          document.querySelector('#df-98ae6d9a-3cae-4556-abdf-57814eab9c1c button.colab-df-convert');\n",
              "        buttonEl.style.display =\n",
              "          google.colab.kernel.accessAllowed ? 'block' : 'none';\n",
              "\n",
              "        async function convertToInteractive(key) {\n",
              "          const element = document.querySelector('#df-98ae6d9a-3cae-4556-abdf-57814eab9c1c');\n",
              "          const dataTable =\n",
              "            await google.colab.kernel.invokeFunction('convertToInteractive',\n",
              "                                                     [key], {});\n",
              "          if (!dataTable) return;\n",
              "\n",
              "          const docLinkHtml = 'Like what you see? Visit the ' +\n",
              "            '<a target=\"_blank\" href=https://colab.research.google.com/notebooks/data_table.ipynb>data table notebook</a>'\n",
              "            + ' to learn more about interactive tables.';\n",
              "          element.innerHTML = '';\n",
              "          dataTable['output_type'] = 'display_data';\n",
              "          await google.colab.output.renderOutput(dataTable, element);\n",
              "          const docLink = document.createElement('div');\n",
              "          docLink.innerHTML = docLinkHtml;\n",
              "          element.appendChild(docLink);\n",
              "        }\n",
              "      </script>\n",
              "    </div>\n",
              "  </div>\n",
              "  "
            ]
          },
          "metadata": {},
          "execution_count": 17
        }
      ]
    },
    {
      "cell_type": "markdown",
      "source": [
        "Suku bunga pinjaman dari Tingkat A hingga G terlihat meningkat yang artinya yang dibayarkan dari pinjaman sebelumnya lebih besar"
      ],
      "metadata": {
        "id": "7sAMos25ciHX"
      }
    },
    {
      "cell_type": "markdown",
      "source": [
        "# Preprocessing"
      ],
      "metadata": {
        "id": "bOkLybI5LEHy"
      }
    },
    {
      "cell_type": "markdown",
      "source": [
        "## Missing Values Handling"
      ],
      "metadata": {
        "id": "v6nJfRnTBrML"
      }
    },
    {
      "cell_type": "code",
      "source": [
        "df_null = df.isnull().sum().reset_index()\n",
        "df_null.columns = [\"features\", \"missing_value\"]\n",
        "df_null['Percentage'] = (df_null[\"missing_value\"]/df.shape[0])*100\n",
        "df_null.sort_values(by=['Percentage'], ascending = False).reset_index()"
      ],
      "metadata": {
        "colab": {
          "base_uri": "https://localhost:8080/",
          "height": 424
        },
        "id": "_1eb8RAE57ao",
        "outputId": "8d40d394-a5dd-4c07-f799-157db2606adc"
      },
      "execution_count": 18,
      "outputs": [
        {
          "output_type": "execute_result",
          "data": {
            "text/plain": [
              "    index                   features  missing_value  Percentage\n",
              "0      61                 open_il_6m         174079       100.0\n",
              "1      66                    il_util         174079       100.0\n",
              "2      55                  dti_joint         174079       100.0\n",
              "3      56  verification_status_joint         174079       100.0\n",
              "4      60                open_acc_6m         174079       100.0\n",
              "..    ...                        ...            ...         ...\n",
              "71     39                total_pymnt              0         0.0\n",
              "72     40            total_pymnt_inv              0         0.0\n",
              "73     41            total_rec_prncp              0         0.0\n",
              "74     42              total_rec_int              0         0.0\n",
              "75     75                     target              0         0.0\n",
              "\n",
              "[76 rows x 4 columns]"
            ],
            "text/html": [
              "\n",
              "  <div id=\"df-e820c257-4639-4499-ae7d-87069adae50e\">\n",
              "    <div class=\"colab-df-container\">\n",
              "      <div>\n",
              "<style scoped>\n",
              "    .dataframe tbody tr th:only-of-type {\n",
              "        vertical-align: middle;\n",
              "    }\n",
              "\n",
              "    .dataframe tbody tr th {\n",
              "        vertical-align: top;\n",
              "    }\n",
              "\n",
              "    .dataframe thead th {\n",
              "        text-align: right;\n",
              "    }\n",
              "</style>\n",
              "<table border=\"1\" class=\"dataframe\">\n",
              "  <thead>\n",
              "    <tr style=\"text-align: right;\">\n",
              "      <th></th>\n",
              "      <th>index</th>\n",
              "      <th>features</th>\n",
              "      <th>missing_value</th>\n",
              "      <th>Percentage</th>\n",
              "    </tr>\n",
              "  </thead>\n",
              "  <tbody>\n",
              "    <tr>\n",
              "      <th>0</th>\n",
              "      <td>61</td>\n",
              "      <td>open_il_6m</td>\n",
              "      <td>174079</td>\n",
              "      <td>100.0</td>\n",
              "    </tr>\n",
              "    <tr>\n",
              "      <th>1</th>\n",
              "      <td>66</td>\n",
              "      <td>il_util</td>\n",
              "      <td>174079</td>\n",
              "      <td>100.0</td>\n",
              "    </tr>\n",
              "    <tr>\n",
              "      <th>2</th>\n",
              "      <td>55</td>\n",
              "      <td>dti_joint</td>\n",
              "      <td>174079</td>\n",
              "      <td>100.0</td>\n",
              "    </tr>\n",
              "    <tr>\n",
              "      <th>3</th>\n",
              "      <td>56</td>\n",
              "      <td>verification_status_joint</td>\n",
              "      <td>174079</td>\n",
              "      <td>100.0</td>\n",
              "    </tr>\n",
              "    <tr>\n",
              "      <th>4</th>\n",
              "      <td>60</td>\n",
              "      <td>open_acc_6m</td>\n",
              "      <td>174079</td>\n",
              "      <td>100.0</td>\n",
              "    </tr>\n",
              "    <tr>\n",
              "      <th>...</th>\n",
              "      <td>...</td>\n",
              "      <td>...</td>\n",
              "      <td>...</td>\n",
              "      <td>...</td>\n",
              "    </tr>\n",
              "    <tr>\n",
              "      <th>71</th>\n",
              "      <td>39</td>\n",
              "      <td>total_pymnt</td>\n",
              "      <td>0</td>\n",
              "      <td>0.0</td>\n",
              "    </tr>\n",
              "    <tr>\n",
              "      <th>72</th>\n",
              "      <td>40</td>\n",
              "      <td>total_pymnt_inv</td>\n",
              "      <td>0</td>\n",
              "      <td>0.0</td>\n",
              "    </tr>\n",
              "    <tr>\n",
              "      <th>73</th>\n",
              "      <td>41</td>\n",
              "      <td>total_rec_prncp</td>\n",
              "      <td>0</td>\n",
              "      <td>0.0</td>\n",
              "    </tr>\n",
              "    <tr>\n",
              "      <th>74</th>\n",
              "      <td>42</td>\n",
              "      <td>total_rec_int</td>\n",
              "      <td>0</td>\n",
              "      <td>0.0</td>\n",
              "    </tr>\n",
              "    <tr>\n",
              "      <th>75</th>\n",
              "      <td>75</td>\n",
              "      <td>target</td>\n",
              "      <td>0</td>\n",
              "      <td>0.0</td>\n",
              "    </tr>\n",
              "  </tbody>\n",
              "</table>\n",
              "<p>76 rows × 4 columns</p>\n",
              "</div>\n",
              "      <button class=\"colab-df-convert\" onclick=\"convertToInteractive('df-e820c257-4639-4499-ae7d-87069adae50e')\"\n",
              "              title=\"Convert this dataframe to an interactive table.\"\n",
              "              style=\"display:none;\">\n",
              "        \n",
              "  <svg xmlns=\"http://www.w3.org/2000/svg\" height=\"24px\"viewBox=\"0 0 24 24\"\n",
              "       width=\"24px\">\n",
              "    <path d=\"M0 0h24v24H0V0z\" fill=\"none\"/>\n",
              "    <path d=\"M18.56 5.44l.94 2.06.94-2.06 2.06-.94-2.06-.94-.94-2.06-.94 2.06-2.06.94zm-11 1L8.5 8.5l.94-2.06 2.06-.94-2.06-.94L8.5 2.5l-.94 2.06-2.06.94zm10 10l.94 2.06.94-2.06 2.06-.94-2.06-.94-.94-2.06-.94 2.06-2.06.94z\"/><path d=\"M17.41 7.96l-1.37-1.37c-.4-.4-.92-.59-1.43-.59-.52 0-1.04.2-1.43.59L10.3 9.45l-7.72 7.72c-.78.78-.78 2.05 0 2.83L4 21.41c.39.39.9.59 1.41.59.51 0 1.02-.2 1.41-.59l7.78-7.78 2.81-2.81c.8-.78.8-2.07 0-2.86zM5.41 20L4 18.59l7.72-7.72 1.47 1.35L5.41 20z\"/>\n",
              "  </svg>\n",
              "      </button>\n",
              "      \n",
              "  <style>\n",
              "    .colab-df-container {\n",
              "      display:flex;\n",
              "      flex-wrap:wrap;\n",
              "      gap: 12px;\n",
              "    }\n",
              "\n",
              "    .colab-df-convert {\n",
              "      background-color: #E8F0FE;\n",
              "      border: none;\n",
              "      border-radius: 50%;\n",
              "      cursor: pointer;\n",
              "      display: none;\n",
              "      fill: #1967D2;\n",
              "      height: 32px;\n",
              "      padding: 0 0 0 0;\n",
              "      width: 32px;\n",
              "    }\n",
              "\n",
              "    .colab-df-convert:hover {\n",
              "      background-color: #E2EBFA;\n",
              "      box-shadow: 0px 1px 2px rgba(60, 64, 67, 0.3), 0px 1px 3px 1px rgba(60, 64, 67, 0.15);\n",
              "      fill: #174EA6;\n",
              "    }\n",
              "\n",
              "    [theme=dark] .colab-df-convert {\n",
              "      background-color: #3B4455;\n",
              "      fill: #D2E3FC;\n",
              "    }\n",
              "\n",
              "    [theme=dark] .colab-df-convert:hover {\n",
              "      background-color: #434B5C;\n",
              "      box-shadow: 0px 1px 3px 1px rgba(0, 0, 0, 0.15);\n",
              "      filter: drop-shadow(0px 1px 2px rgba(0, 0, 0, 0.3));\n",
              "      fill: #FFFFFF;\n",
              "    }\n",
              "  </style>\n",
              "\n",
              "      <script>\n",
              "        const buttonEl =\n",
              "          document.querySelector('#df-e820c257-4639-4499-ae7d-87069adae50e button.colab-df-convert');\n",
              "        buttonEl.style.display =\n",
              "          google.colab.kernel.accessAllowed ? 'block' : 'none';\n",
              "\n",
              "        async function convertToInteractive(key) {\n",
              "          const element = document.querySelector('#df-e820c257-4639-4499-ae7d-87069adae50e');\n",
              "          const dataTable =\n",
              "            await google.colab.kernel.invokeFunction('convertToInteractive',\n",
              "                                                     [key], {});\n",
              "          if (!dataTable) return;\n",
              "\n",
              "          const docLinkHtml = 'Like what you see? Visit the ' +\n",
              "            '<a target=\"_blank\" href=https://colab.research.google.com/notebooks/data_table.ipynb>data table notebook</a>'\n",
              "            + ' to learn more about interactive tables.';\n",
              "          element.innerHTML = '';\n",
              "          dataTable['output_type'] = 'display_data';\n",
              "          await google.colab.output.renderOutput(dataTable, element);\n",
              "          const docLink = document.createElement('div');\n",
              "          docLink.innerHTML = docLinkHtml;\n",
              "          element.appendChild(docLink);\n",
              "        }\n",
              "      </script>\n",
              "    </div>\n",
              "  </div>\n",
              "  "
            ]
          },
          "metadata": {},
          "execution_count": 18
        }
      ]
    },
    {
      "cell_type": "code",
      "source": [
        "to_drop = df_null[df_null['Percentage']>25]['features']\n",
        "to_drop\n",
        "\n",
        "df.drop(to_drop, axis=1, inplace=True)\n",
        "df.drop('Unnamed: 0', axis=1, inplace=True)"
      ],
      "metadata": {
        "id": "hai20xUP7ClK"
      },
      "execution_count": 19,
      "outputs": []
    },
    {
      "cell_type": "code",
      "source": [
        "df.shape"
      ],
      "metadata": {
        "colab": {
          "base_uri": "https://localhost:8080/"
        },
        "id": "z0vdlqnG7RAN",
        "outputId": "db146d4e-88e6-4d97-a526-8cef9c732749"
      },
      "execution_count": 20,
      "outputs": [
        {
          "output_type": "execute_result",
          "data": {
            "text/plain": [
              "(174079, 50)"
            ]
          },
          "metadata": {},
          "execution_count": 20
        }
      ]
    },
    {
      "cell_type": "code",
      "source": [
        "df_num = df.select_dtypes(include='number')"
      ],
      "metadata": {
        "id": "Ccj8miRDAMcy"
      },
      "execution_count": 21,
      "outputs": []
    },
    {
      "cell_type": "code",
      "source": [
        "df_num.shape"
      ],
      "metadata": {
        "colab": {
          "base_uri": "https://localhost:8080/"
        },
        "id": "u8_t8vPJBH5T",
        "outputId": "63095f8c-8d3c-4858-e4ca-999237d4da69"
      },
      "execution_count": 22,
      "outputs": [
        {
          "output_type": "execute_result",
          "data": {
            "text/plain": [
              "(174079, 30)"
            ]
          },
          "metadata": {},
          "execution_count": 22
        }
      ]
    },
    {
      "cell_type": "code",
      "source": [
        "to_fill = df_null[(df_null['Percentage']<=25) & (df_null['Percentage']>0)]['features']"
      ],
      "metadata": {
        "id": "jUnjYFT07brI"
      },
      "execution_count": 23,
      "outputs": []
    },
    {
      "cell_type": "markdown",
      "source": [
        "Filling missing value untuk data numerik dilakukan dengan mean, sedangkan data nonnumerik dengan modus."
      ],
      "metadata": {
        "id": "aZOS5a3gOh5y"
      }
    },
    {
      "cell_type": "code",
      "source": [
        "for feature in to_fill:\n",
        "  if feature in df_num.columns:\n",
        "    df[feature].fillna(int(df[feature].mean()), inplace = True)\n",
        "  else:\n",
        "    df[feature].fillna(str(df[feature].mode()), inplace = True)"
      ],
      "metadata": {
        "id": "lwOJ78Uu7vDd"
      },
      "execution_count": 24,
      "outputs": []
    },
    {
      "cell_type": "code",
      "source": [
        "print(df.isna().sum().tolist())"
      ],
      "metadata": {
        "colab": {
          "base_uri": "https://localhost:8080/"
        },
        "id": "2bWHgLjFBl0K",
        "outputId": "503dc853-541e-4f46-b088-717a0290f932"
      },
      "execution_count": 25,
      "outputs": [
        {
          "output_type": "stream",
          "name": "stdout",
          "text": [
            "[0, 0, 0, 0, 0, 0, 0, 0, 0, 0, 0, 0, 0, 0, 0, 0, 0, 0, 0, 0, 0, 0, 0, 0, 0, 0, 0, 0, 0, 0, 0, 0, 0, 0, 0, 0, 0, 0, 0, 0, 0, 0, 0, 0, 0, 0, 0, 0, 0, 0]\n"
          ]
        }
      ]
    },
    {
      "cell_type": "markdown",
      "source": [
        "Pengecekan nilai duplikat juga dilakukan."
      ],
      "metadata": {
        "id": "zL6bPmGlOrdX"
      }
    },
    {
      "cell_type": "code",
      "source": [
        "df.duplicated().sum()"
      ],
      "metadata": {
        "colab": {
          "base_uri": "https://localhost:8080/"
        },
        "id": "KhD7tLFPHf-g",
        "outputId": "b741c167-444c-44a2-8615-a7813b976609"
      },
      "execution_count": 26,
      "outputs": [
        {
          "output_type": "execute_result",
          "data": {
            "text/plain": [
              "0"
            ]
          },
          "metadata": {},
          "execution_count": 26
        }
      ]
    },
    {
      "cell_type": "code",
      "source": [
        "df.info()"
      ],
      "metadata": {
        "colab": {
          "base_uri": "https://localhost:8080/"
        },
        "id": "v-RB2cVIFFpg",
        "outputId": "fd76d53b-a1fc-4d21-9a31-6932e573d58d"
      },
      "execution_count": 27,
      "outputs": [
        {
          "output_type": "stream",
          "name": "stdout",
          "text": [
            "<class 'pandas.core.frame.DataFrame'>\n",
            "Int64Index: 174079 entries, 0 to 276202\n",
            "Data columns (total 50 columns):\n",
            " #   Column                      Non-Null Count   Dtype  \n",
            "---  ------                      --------------   -----  \n",
            " 0   id                          174079 non-null  int64  \n",
            " 1   member_id                   174079 non-null  int64  \n",
            " 2   loan_amnt                   174079 non-null  int64  \n",
            " 3   funded_amnt                 174079 non-null  int64  \n",
            " 4   funded_amnt_inv             174079 non-null  float64\n",
            " 5   term                        174079 non-null  object \n",
            " 6   int_rate                    174079 non-null  float64\n",
            " 7   installment                 174079 non-null  float64\n",
            " 8   grade                       174079 non-null  object \n",
            " 9   sub_grade                   174079 non-null  object \n",
            " 10  emp_title                   174079 non-null  object \n",
            " 11  emp_length                  174079 non-null  object \n",
            " 12  home_ownership              174079 non-null  object \n",
            " 13  annual_inc                  174079 non-null  float64\n",
            " 14  verification_status         174079 non-null  object \n",
            " 15  issue_d                     174079 non-null  object \n",
            " 16  loan_status                 174079 non-null  object \n",
            " 17  pymnt_plan                  174079 non-null  object \n",
            " 18  url                         174079 non-null  object \n",
            " 19  purpose                     174079 non-null  object \n",
            " 20  title                       174079 non-null  object \n",
            " 21  zip_code                    174079 non-null  object \n",
            " 22  addr_state                  174079 non-null  object \n",
            " 23  dti                         174079 non-null  float64\n",
            " 24  delinq_2yrs                 174079 non-null  float64\n",
            " 25  earliest_cr_line            174079 non-null  object \n",
            " 26  inq_last_6mths              174079 non-null  float64\n",
            " 27  open_acc                    174079 non-null  float64\n",
            " 28  pub_rec                     174079 non-null  float64\n",
            " 29  revol_bal                   174079 non-null  float64\n",
            " 30  revol_util                  174079 non-null  float64\n",
            " 31  total_acc                   174079 non-null  float64\n",
            " 32  initial_list_status         174079 non-null  object \n",
            " 33  out_prncp                   174079 non-null  float64\n",
            " 34  out_prncp_inv               174079 non-null  float64\n",
            " 35  total_pymnt                 174079 non-null  float64\n",
            " 36  total_pymnt_inv             174079 non-null  float64\n",
            " 37  total_rec_prncp             174079 non-null  float64\n",
            " 38  total_rec_int               174079 non-null  float64\n",
            " 39  total_rec_late_fee          174079 non-null  float64\n",
            " 40  recoveries                  174079 non-null  float64\n",
            " 41  collection_recovery_fee     174079 non-null  float64\n",
            " 42  last_pymnt_d                174079 non-null  object \n",
            " 43  last_pymnt_amnt             174079 non-null  float64\n",
            " 44  last_credit_pull_d          174079 non-null  object \n",
            " 45  collections_12_mths_ex_med  174079 non-null  float64\n",
            " 46  policy_code                 174079 non-null  float64\n",
            " 47  application_type            174079 non-null  object \n",
            " 48  acc_now_delinq              174079 non-null  float64\n",
            " 49  target                      174079 non-null  int64  \n",
            "dtypes: float64(25), int64(5), object(20)\n",
            "memory usage: 71.8+ MB\n"
          ]
        }
      ]
    },
    {
      "cell_type": "markdown",
      "source": [
        "## Feature Selection"
      ],
      "metadata": {
        "id": "7RTVxBnqB8RI"
      }
    },
    {
      "cell_type": "code",
      "source": [
        "df_obj = df.select_dtypes(include='object')"
      ],
      "metadata": {
        "id": "kNjWqOivUMrx"
      },
      "execution_count": 28,
      "outputs": []
    },
    {
      "cell_type": "code",
      "source": [
        "unique_obj = df_obj.nunique()\n",
        "unique_num = df_num.nunique()"
      ],
      "metadata": {
        "id": "oazQbWgLRJlg"
      },
      "execution_count": 29,
      "outputs": []
    },
    {
      "cell_type": "markdown",
      "source": [
        "Mencari feature numerik dan nonnumerik yang hanya memiliki 1 nilai unik, memiliki nilai unik sesuai jumlah data, dan feature nonnumerik dengan nilai unik yang terlalu terbanyak (> 500). Feature akan dihapus nantinya."
      ],
      "metadata": {
        "id": "wRfxm6GyOw_B"
      }
    },
    {
      "cell_type": "code",
      "source": [
        "single_obj_colname = unique_obj[unique_obj==1].index.to_list()\n",
        "single_num_colname = unique_num[unique_num==1].index.to_list()\n",
        "\n",
        "print(single_obj_colname)\n",
        "print(single_num_colname)"
      ],
      "metadata": {
        "colab": {
          "base_uri": "https://localhost:8080/"
        },
        "id": "H46uhkjJSWC2",
        "outputId": "46bfcfff-b4db-408f-93b4-403d4cfa72ca"
      },
      "execution_count": 30,
      "outputs": [
        {
          "output_type": "stream",
          "name": "stdout",
          "text": [
            "['application_type']\n",
            "['policy_code']\n"
          ]
        }
      ]
    },
    {
      "cell_type": "code",
      "source": [
        "unique_obj_colname = unique_obj[unique_obj==df.shape[0]].index.to_list()\n",
        "unique_num_colname = unique_num[unique_num==df.shape[0]].index.to_list()\n",
        "print(unique_obj_colname)\n",
        "print(unique_num_colname)"
      ],
      "metadata": {
        "colab": {
          "base_uri": "https://localhost:8080/"
        },
        "id": "xwoIkIHJS6zu",
        "outputId": "a6515f60-49e6-4395-a200-2348e517dbca"
      },
      "execution_count": 31,
      "outputs": [
        {
          "output_type": "stream",
          "name": "stdout",
          "text": [
            "['url']\n",
            "['id', 'member_id']\n"
          ]
        }
      ]
    },
    {
      "cell_type": "code",
      "source": [
        "mul_obj_colname = unique_obj[unique_obj>500].index.to_list()\n",
        "print(mul_obj_colname)"
      ],
      "metadata": {
        "colab": {
          "base_uri": "https://localhost:8080/"
        },
        "id": "odoJxTVHTdAD",
        "outputId": "df74c69d-1986-465c-8490-597c447becc3"
      },
      "execution_count": 32,
      "outputs": [
        {
          "output_type": "stream",
          "name": "stdout",
          "text": [
            "['emp_title', 'url', 'title', 'zip_code', 'earliest_cr_line']\n"
          ]
        }
      ]
    },
    {
      "cell_type": "code",
      "source": [
        "remove = single_obj_colname + single_num_colname + unique_obj_colname + unique_num_colname + mul_obj_colname"
      ],
      "metadata": {
        "id": "gr6S9o9yWrcy"
      },
      "execution_count": 33,
      "outputs": []
    },
    {
      "cell_type": "code",
      "source": [
        "new_df = df.loc[:, ~df.columns.isin(remove)].copy()\n",
        "new_df.shape"
      ],
      "metadata": {
        "colab": {
          "base_uri": "https://localhost:8080/"
        },
        "id": "e5A-lTjaWyv_",
        "outputId": "2125f426-b9d9-431f-983e-6415bd86db5e"
      },
      "execution_count": 34,
      "outputs": [
        {
          "output_type": "execute_result",
          "data": {
            "text/plain": [
              "(174079, 41)"
            ]
          },
          "metadata": {},
          "execution_count": 34
        }
      ]
    },
    {
      "cell_type": "code",
      "source": [
        "new_df.head()"
      ],
      "metadata": {
        "colab": {
          "base_uri": "https://localhost:8080/",
          "height": 386
        },
        "id": "J-rKndOxZ6O1",
        "outputId": "077e2091-746f-459a-d167-5a6114c9f077"
      },
      "execution_count": 35,
      "outputs": [
        {
          "output_type": "execute_result",
          "data": {
            "text/plain": [
              "   loan_amnt  funded_amnt  funded_amnt_inv        term  int_rate  installment  \\\n",
              "0       5000         5000           4975.0   36 months     10.65       162.87   \n",
              "1       2500         2500           2500.0   60 months     15.27        59.83   \n",
              "2       2400         2400           2400.0   36 months     15.96        84.33   \n",
              "3      10000        10000          10000.0   36 months     13.49       339.31   \n",
              "5       5000         5000           5000.0   36 months      7.90       156.46   \n",
              "\n",
              "  grade sub_grade emp_length home_ownership  ...  total_rec_int  \\\n",
              "0     B        B2  10+ years           RENT  ...         861.07   \n",
              "1     C        C4   < 1 year           RENT  ...         435.17   \n",
              "2     C        C5  10+ years           RENT  ...         603.65   \n",
              "3     C        C1  10+ years           RENT  ...        2209.33   \n",
              "5     A        A4    3 years           RENT  ...         631.38   \n",
              "\n",
              "  total_rec_late_fee recoveries collection_recovery_fee last_pymnt_d  \\\n",
              "0               0.00       0.00                    0.00       Jan-15   \n",
              "1               0.00     117.08                    1.11       Apr-13   \n",
              "2               0.00       0.00                    0.00       Jun-14   \n",
              "3              16.97       0.00                    0.00       Jan-15   \n",
              "5               0.00       0.00                    0.00       Jan-15   \n",
              "\n",
              "  last_pymnt_amnt last_credit_pull_d  collections_12_mths_ex_med  \\\n",
              "0          171.62             Jan-16                         0.0   \n",
              "1          119.66             Sep-13                         0.0   \n",
              "2          649.91             Jan-16                         0.0   \n",
              "3          357.48             Jan-15                         0.0   \n",
              "5          161.03             Sep-15                         0.0   \n",
              "\n",
              "   acc_now_delinq  target  \n",
              "0             0.0       1  \n",
              "1             0.0       0  \n",
              "2             0.0       1  \n",
              "3             0.0       1  \n",
              "5             0.0       1  \n",
              "\n",
              "[5 rows x 41 columns]"
            ],
            "text/html": [
              "\n",
              "  <div id=\"df-454d52c7-dedd-41e0-9713-b3ca1608b1ae\">\n",
              "    <div class=\"colab-df-container\">\n",
              "      <div>\n",
              "<style scoped>\n",
              "    .dataframe tbody tr th:only-of-type {\n",
              "        vertical-align: middle;\n",
              "    }\n",
              "\n",
              "    .dataframe tbody tr th {\n",
              "        vertical-align: top;\n",
              "    }\n",
              "\n",
              "    .dataframe thead th {\n",
              "        text-align: right;\n",
              "    }\n",
              "</style>\n",
              "<table border=\"1\" class=\"dataframe\">\n",
              "  <thead>\n",
              "    <tr style=\"text-align: right;\">\n",
              "      <th></th>\n",
              "      <th>loan_amnt</th>\n",
              "      <th>funded_amnt</th>\n",
              "      <th>funded_amnt_inv</th>\n",
              "      <th>term</th>\n",
              "      <th>int_rate</th>\n",
              "      <th>installment</th>\n",
              "      <th>grade</th>\n",
              "      <th>sub_grade</th>\n",
              "      <th>emp_length</th>\n",
              "      <th>home_ownership</th>\n",
              "      <th>...</th>\n",
              "      <th>total_rec_int</th>\n",
              "      <th>total_rec_late_fee</th>\n",
              "      <th>recoveries</th>\n",
              "      <th>collection_recovery_fee</th>\n",
              "      <th>last_pymnt_d</th>\n",
              "      <th>last_pymnt_amnt</th>\n",
              "      <th>last_credit_pull_d</th>\n",
              "      <th>collections_12_mths_ex_med</th>\n",
              "      <th>acc_now_delinq</th>\n",
              "      <th>target</th>\n",
              "    </tr>\n",
              "  </thead>\n",
              "  <tbody>\n",
              "    <tr>\n",
              "      <th>0</th>\n",
              "      <td>5000</td>\n",
              "      <td>5000</td>\n",
              "      <td>4975.0</td>\n",
              "      <td>36 months</td>\n",
              "      <td>10.65</td>\n",
              "      <td>162.87</td>\n",
              "      <td>B</td>\n",
              "      <td>B2</td>\n",
              "      <td>10+ years</td>\n",
              "      <td>RENT</td>\n",
              "      <td>...</td>\n",
              "      <td>861.07</td>\n",
              "      <td>0.00</td>\n",
              "      <td>0.00</td>\n",
              "      <td>0.00</td>\n",
              "      <td>Jan-15</td>\n",
              "      <td>171.62</td>\n",
              "      <td>Jan-16</td>\n",
              "      <td>0.0</td>\n",
              "      <td>0.0</td>\n",
              "      <td>1</td>\n",
              "    </tr>\n",
              "    <tr>\n",
              "      <th>1</th>\n",
              "      <td>2500</td>\n",
              "      <td>2500</td>\n",
              "      <td>2500.0</td>\n",
              "      <td>60 months</td>\n",
              "      <td>15.27</td>\n",
              "      <td>59.83</td>\n",
              "      <td>C</td>\n",
              "      <td>C4</td>\n",
              "      <td>&lt; 1 year</td>\n",
              "      <td>RENT</td>\n",
              "      <td>...</td>\n",
              "      <td>435.17</td>\n",
              "      <td>0.00</td>\n",
              "      <td>117.08</td>\n",
              "      <td>1.11</td>\n",
              "      <td>Apr-13</td>\n",
              "      <td>119.66</td>\n",
              "      <td>Sep-13</td>\n",
              "      <td>0.0</td>\n",
              "      <td>0.0</td>\n",
              "      <td>0</td>\n",
              "    </tr>\n",
              "    <tr>\n",
              "      <th>2</th>\n",
              "      <td>2400</td>\n",
              "      <td>2400</td>\n",
              "      <td>2400.0</td>\n",
              "      <td>36 months</td>\n",
              "      <td>15.96</td>\n",
              "      <td>84.33</td>\n",
              "      <td>C</td>\n",
              "      <td>C5</td>\n",
              "      <td>10+ years</td>\n",
              "      <td>RENT</td>\n",
              "      <td>...</td>\n",
              "      <td>603.65</td>\n",
              "      <td>0.00</td>\n",
              "      <td>0.00</td>\n",
              "      <td>0.00</td>\n",
              "      <td>Jun-14</td>\n",
              "      <td>649.91</td>\n",
              "      <td>Jan-16</td>\n",
              "      <td>0.0</td>\n",
              "      <td>0.0</td>\n",
              "      <td>1</td>\n",
              "    </tr>\n",
              "    <tr>\n",
              "      <th>3</th>\n",
              "      <td>10000</td>\n",
              "      <td>10000</td>\n",
              "      <td>10000.0</td>\n",
              "      <td>36 months</td>\n",
              "      <td>13.49</td>\n",
              "      <td>339.31</td>\n",
              "      <td>C</td>\n",
              "      <td>C1</td>\n",
              "      <td>10+ years</td>\n",
              "      <td>RENT</td>\n",
              "      <td>...</td>\n",
              "      <td>2209.33</td>\n",
              "      <td>16.97</td>\n",
              "      <td>0.00</td>\n",
              "      <td>0.00</td>\n",
              "      <td>Jan-15</td>\n",
              "      <td>357.48</td>\n",
              "      <td>Jan-15</td>\n",
              "      <td>0.0</td>\n",
              "      <td>0.0</td>\n",
              "      <td>1</td>\n",
              "    </tr>\n",
              "    <tr>\n",
              "      <th>5</th>\n",
              "      <td>5000</td>\n",
              "      <td>5000</td>\n",
              "      <td>5000.0</td>\n",
              "      <td>36 months</td>\n",
              "      <td>7.90</td>\n",
              "      <td>156.46</td>\n",
              "      <td>A</td>\n",
              "      <td>A4</td>\n",
              "      <td>3 years</td>\n",
              "      <td>RENT</td>\n",
              "      <td>...</td>\n",
              "      <td>631.38</td>\n",
              "      <td>0.00</td>\n",
              "      <td>0.00</td>\n",
              "      <td>0.00</td>\n",
              "      <td>Jan-15</td>\n",
              "      <td>161.03</td>\n",
              "      <td>Sep-15</td>\n",
              "      <td>0.0</td>\n",
              "      <td>0.0</td>\n",
              "      <td>1</td>\n",
              "    </tr>\n",
              "  </tbody>\n",
              "</table>\n",
              "<p>5 rows × 41 columns</p>\n",
              "</div>\n",
              "      <button class=\"colab-df-convert\" onclick=\"convertToInteractive('df-454d52c7-dedd-41e0-9713-b3ca1608b1ae')\"\n",
              "              title=\"Convert this dataframe to an interactive table.\"\n",
              "              style=\"display:none;\">\n",
              "        \n",
              "  <svg xmlns=\"http://www.w3.org/2000/svg\" height=\"24px\"viewBox=\"0 0 24 24\"\n",
              "       width=\"24px\">\n",
              "    <path d=\"M0 0h24v24H0V0z\" fill=\"none\"/>\n",
              "    <path d=\"M18.56 5.44l.94 2.06.94-2.06 2.06-.94-2.06-.94-.94-2.06-.94 2.06-2.06.94zm-11 1L8.5 8.5l.94-2.06 2.06-.94-2.06-.94L8.5 2.5l-.94 2.06-2.06.94zm10 10l.94 2.06.94-2.06 2.06-.94-2.06-.94-.94-2.06-.94 2.06-2.06.94z\"/><path d=\"M17.41 7.96l-1.37-1.37c-.4-.4-.92-.59-1.43-.59-.52 0-1.04.2-1.43.59L10.3 9.45l-7.72 7.72c-.78.78-.78 2.05 0 2.83L4 21.41c.39.39.9.59 1.41.59.51 0 1.02-.2 1.41-.59l7.78-7.78 2.81-2.81c.8-.78.8-2.07 0-2.86zM5.41 20L4 18.59l7.72-7.72 1.47 1.35L5.41 20z\"/>\n",
              "  </svg>\n",
              "      </button>\n",
              "      \n",
              "  <style>\n",
              "    .colab-df-container {\n",
              "      display:flex;\n",
              "      flex-wrap:wrap;\n",
              "      gap: 12px;\n",
              "    }\n",
              "\n",
              "    .colab-df-convert {\n",
              "      background-color: #E8F0FE;\n",
              "      border: none;\n",
              "      border-radius: 50%;\n",
              "      cursor: pointer;\n",
              "      display: none;\n",
              "      fill: #1967D2;\n",
              "      height: 32px;\n",
              "      padding: 0 0 0 0;\n",
              "      width: 32px;\n",
              "    }\n",
              "\n",
              "    .colab-df-convert:hover {\n",
              "      background-color: #E2EBFA;\n",
              "      box-shadow: 0px 1px 2px rgba(60, 64, 67, 0.3), 0px 1px 3px 1px rgba(60, 64, 67, 0.15);\n",
              "      fill: #174EA6;\n",
              "    }\n",
              "\n",
              "    [theme=dark] .colab-df-convert {\n",
              "      background-color: #3B4455;\n",
              "      fill: #D2E3FC;\n",
              "    }\n",
              "\n",
              "    [theme=dark] .colab-df-convert:hover {\n",
              "      background-color: #434B5C;\n",
              "      box-shadow: 0px 1px 3px 1px rgba(0, 0, 0, 0.15);\n",
              "      filter: drop-shadow(0px 1px 2px rgba(0, 0, 0, 0.3));\n",
              "      fill: #FFFFFF;\n",
              "    }\n",
              "  </style>\n",
              "\n",
              "      <script>\n",
              "        const buttonEl =\n",
              "          document.querySelector('#df-454d52c7-dedd-41e0-9713-b3ca1608b1ae button.colab-df-convert');\n",
              "        buttonEl.style.display =\n",
              "          google.colab.kernel.accessAllowed ? 'block' : 'none';\n",
              "\n",
              "        async function convertToInteractive(key) {\n",
              "          const element = document.querySelector('#df-454d52c7-dedd-41e0-9713-b3ca1608b1ae');\n",
              "          const dataTable =\n",
              "            await google.colab.kernel.invokeFunction('convertToInteractive',\n",
              "                                                     [key], {});\n",
              "          if (!dataTable) return;\n",
              "\n",
              "          const docLinkHtml = 'Like what you see? Visit the ' +\n",
              "            '<a target=\"_blank\" href=https://colab.research.google.com/notebooks/data_table.ipynb>data table notebook</a>'\n",
              "            + ' to learn more about interactive tables.';\n",
              "          element.innerHTML = '';\n",
              "          dataTable['output_type'] = 'display_data';\n",
              "          await google.colab.output.renderOutput(dataTable, element);\n",
              "          const docLink = document.createElement('div');\n",
              "          docLink.innerHTML = docLinkHtml;\n",
              "          element.appendChild(docLink);\n",
              "        }\n",
              "      </script>\n",
              "    </div>\n",
              "  </div>\n",
              "  "
            ]
          },
          "metadata": {},
          "execution_count": 35
        }
      ]
    },
    {
      "cell_type": "code",
      "source": [
        "new_df.columns"
      ],
      "metadata": {
        "colab": {
          "base_uri": "https://localhost:8080/"
        },
        "id": "WTOwx1lBcAPy",
        "outputId": "80918524-d425-42f4-ea6b-2bcd614e434d"
      },
      "execution_count": 36,
      "outputs": [
        {
          "output_type": "execute_result",
          "data": {
            "text/plain": [
              "Index(['loan_amnt', 'funded_amnt', 'funded_amnt_inv', 'term', 'int_rate',\n",
              "       'installment', 'grade', 'sub_grade', 'emp_length', 'home_ownership',\n",
              "       'annual_inc', 'verification_status', 'issue_d', 'loan_status',\n",
              "       'pymnt_plan', 'purpose', 'addr_state', 'dti', 'delinq_2yrs',\n",
              "       'inq_last_6mths', 'open_acc', 'pub_rec', 'revol_bal', 'revol_util',\n",
              "       'total_acc', 'initial_list_status', 'out_prncp', 'out_prncp_inv',\n",
              "       'total_pymnt', 'total_pymnt_inv', 'total_rec_prncp', 'total_rec_int',\n",
              "       'total_rec_late_fee', 'recoveries', 'collection_recovery_fee',\n",
              "       'last_pymnt_d', 'last_pymnt_amnt', 'last_credit_pull_d',\n",
              "       'collections_12_mths_ex_med', 'acc_now_delinq', 'target'],\n",
              "      dtype='object')"
            ]
          },
          "metadata": {},
          "execution_count": 36
        }
      ]
    },
    {
      "cell_type": "markdown",
      "source": [
        "Ada beberapa infomasi feature yang dapat diprediksi secara langsung ketika kita melihat valuenya. Jika tidak dihapus, training model akan menghasilkan hasil yang bagus karena telah ada infomasi yang kita ingin prediksi, tetapi pada percobaan model sesungguhnya akan tidak baik karena adanya 'Data Leakage' tersebut. Feature yang termasuk 'Data Leakage' adalah:\n",
        "\n",
        "* 'issue_d' : The month which the loan was funded\n",
        "* 'loan_status' : Current status of the loan\n",
        "* 'pymnt_plan' : payment plan\n",
        "* 'out_prncp' : Remaining outstanding principal for total amount funded\n",
        "* 'out_prncp_inv' : Remaining outstanding principal for portion of total amount funded by investors\n",
        "* 'total_pymnt' : Payments received to date for total amount funded\n",
        "* 'total_pymnt_inv' : Payments received to date for portion of total amount funded by investors\n",
        "* 'total_rec_prncp' : Principal received to date\n",
        "* 'total_rec_int' : Interest received to date\n",
        "* 'total_rec_late_fee' : Late fees received to date\n",
        "* 'recoveries' : Indicates if a payment plan has been put in place for the loan\n",
        "* 'collection_recovery_fee' : post charge off collection fee\n",
        "* 'last_pymnt_d' : Last month payment was received\n",
        "* 'last_pymnt_amnt' : Last total payment amount received"
      ],
      "metadata": {
        "id": "HESvINtUaR7v"
      }
    },
    {
      "cell_type": "code",
      "source": [
        "#ini adalah list dari columns yang berisi data leakage\n",
        "leak_col = ['issue_d', 'loan_status', 'out_prncp', 'out_prncp_inv', 'total_pymnt', 'total_pymnt_inv', \n",
        "                   'total_rec_prncp', 'total_rec_int', 'total_rec_late_fee', 'recoveries', 'collection_recovery_fee', \n",
        "                   'last_pymnt_d', 'last_pymnt_amnt']"
      ],
      "metadata": {
        "id": "UNBKSG8HZA_S"
      },
      "execution_count": 37,
      "outputs": []
    },
    {
      "cell_type": "code",
      "source": [
        "new_df.drop (columns=leak_col, axis=1, inplace=True)"
      ],
      "metadata": {
        "id": "PKpAHPMFgq_g"
      },
      "execution_count": 38,
      "outputs": []
    },
    {
      "cell_type": "code",
      "source": [
        "new_df.drop (columns='sub_grade', axis=1, inplace=True)"
      ],
      "metadata": {
        "id": "6rirepq-rShh"
      },
      "execution_count": 39,
      "outputs": []
    },
    {
      "cell_type": "code",
      "source": [
        "new_df.drop (columns='last_credit_pull_d', axis=1, inplace=True)"
      ],
      "metadata": {
        "id": "y_Phr_BiB5Xb"
      },
      "execution_count": 40,
      "outputs": []
    },
    {
      "cell_type": "code",
      "source": [
        "new_df.shape"
      ],
      "metadata": {
        "colab": {
          "base_uri": "https://localhost:8080/"
        },
        "id": "WpC_JRaHZMjs",
        "outputId": "ccc87391-e2d9-417b-b497-64edbed78111"
      },
      "execution_count": 41,
      "outputs": [
        {
          "output_type": "execute_result",
          "data": {
            "text/plain": [
              "(174079, 26)"
            ]
          },
          "metadata": {},
          "execution_count": 41
        }
      ]
    },
    {
      "cell_type": "code",
      "source": [
        "new_df.columns"
      ],
      "metadata": {
        "colab": {
          "base_uri": "https://localhost:8080/"
        },
        "id": "cYHTO9T6Zvbq",
        "outputId": "e8ec6016-4630-412d-e351-26d513bf10ab"
      },
      "execution_count": 42,
      "outputs": [
        {
          "output_type": "execute_result",
          "data": {
            "text/plain": [
              "Index(['loan_amnt', 'funded_amnt', 'funded_amnt_inv', 'term', 'int_rate',\n",
              "       'installment', 'grade', 'emp_length', 'home_ownership', 'annual_inc',\n",
              "       'verification_status', 'pymnt_plan', 'purpose', 'addr_state', 'dti',\n",
              "       'delinq_2yrs', 'inq_last_6mths', 'open_acc', 'pub_rec', 'revol_bal',\n",
              "       'revol_util', 'total_acc', 'initial_list_status',\n",
              "       'collections_12_mths_ex_med', 'acc_now_delinq', 'target'],\n",
              "      dtype='object')"
            ]
          },
          "metadata": {},
          "execution_count": 42
        }
      ]
    },
    {
      "cell_type": "markdown",
      "source": [
        "## Feature Engineering"
      ],
      "metadata": {
        "id": "p_eUYHuhjwwC"
      }
    },
    {
      "cell_type": "code",
      "source": [
        "new_df.select_dtypes(include ='object')"
      ],
      "metadata": {
        "colab": {
          "base_uri": "https://localhost:8080/",
          "height": 424
        },
        "id": "XHJP1CpcjT-k",
        "outputId": "d486f847-8936-4989-8a89-ec9cfbe84910"
      },
      "execution_count": 43,
      "outputs": [
        {
          "output_type": "execute_result",
          "data": {
            "text/plain": [
              "              term grade emp_length home_ownership verification_status  \\\n",
              "0        36 months     B  10+ years           RENT            Verified   \n",
              "1        60 months     C   < 1 year           RENT     Source Verified   \n",
              "2        36 months     C  10+ years           RENT        Not Verified   \n",
              "3        36 months     C  10+ years           RENT     Source Verified   \n",
              "5        36 months     A    3 years           RENT     Source Verified   \n",
              "...            ...   ...        ...            ...                 ...   \n",
              "276183   36 months     B  10+ years       MORTGAGE            Verified   \n",
              "276185   36 months     D    7 years           RENT            Verified   \n",
              "276187   60 months     C    6 years       MORTGAGE     Source Verified   \n",
              "276193   60 months     C    4 years           RENT            Verified   \n",
              "276202   36 months     A    2 years       MORTGAGE     Source Verified   \n",
              "\n",
              "       pymnt_plan             purpose addr_state initial_list_status  \n",
              "0               n         credit_card         AZ                   f  \n",
              "1               n                 car         GA                   f  \n",
              "2               n      small_business         IL                   f  \n",
              "3               n               other         CA                   f  \n",
              "5               n             wedding         AZ                   f  \n",
              "...           ...                 ...        ...                 ...  \n",
              "276183          n         credit_card         FL                   f  \n",
              "276185          n      small_business         VA                   f  \n",
              "276187          n  debt_consolidation         FL                   w  \n",
              "276193          n  debt_consolidation         WI                   w  \n",
              "276202          n    home_improvement         CA                   f  \n",
              "\n",
              "[174079 rows x 9 columns]"
            ],
            "text/html": [
              "\n",
              "  <div id=\"df-7471ba9b-4eb1-461d-83fe-b35fd1fe59f8\">\n",
              "    <div class=\"colab-df-container\">\n",
              "      <div>\n",
              "<style scoped>\n",
              "    .dataframe tbody tr th:only-of-type {\n",
              "        vertical-align: middle;\n",
              "    }\n",
              "\n",
              "    .dataframe tbody tr th {\n",
              "        vertical-align: top;\n",
              "    }\n",
              "\n",
              "    .dataframe thead th {\n",
              "        text-align: right;\n",
              "    }\n",
              "</style>\n",
              "<table border=\"1\" class=\"dataframe\">\n",
              "  <thead>\n",
              "    <tr style=\"text-align: right;\">\n",
              "      <th></th>\n",
              "      <th>term</th>\n",
              "      <th>grade</th>\n",
              "      <th>emp_length</th>\n",
              "      <th>home_ownership</th>\n",
              "      <th>verification_status</th>\n",
              "      <th>pymnt_plan</th>\n",
              "      <th>purpose</th>\n",
              "      <th>addr_state</th>\n",
              "      <th>initial_list_status</th>\n",
              "    </tr>\n",
              "  </thead>\n",
              "  <tbody>\n",
              "    <tr>\n",
              "      <th>0</th>\n",
              "      <td>36 months</td>\n",
              "      <td>B</td>\n",
              "      <td>10+ years</td>\n",
              "      <td>RENT</td>\n",
              "      <td>Verified</td>\n",
              "      <td>n</td>\n",
              "      <td>credit_card</td>\n",
              "      <td>AZ</td>\n",
              "      <td>f</td>\n",
              "    </tr>\n",
              "    <tr>\n",
              "      <th>1</th>\n",
              "      <td>60 months</td>\n",
              "      <td>C</td>\n",
              "      <td>&lt; 1 year</td>\n",
              "      <td>RENT</td>\n",
              "      <td>Source Verified</td>\n",
              "      <td>n</td>\n",
              "      <td>car</td>\n",
              "      <td>GA</td>\n",
              "      <td>f</td>\n",
              "    </tr>\n",
              "    <tr>\n",
              "      <th>2</th>\n",
              "      <td>36 months</td>\n",
              "      <td>C</td>\n",
              "      <td>10+ years</td>\n",
              "      <td>RENT</td>\n",
              "      <td>Not Verified</td>\n",
              "      <td>n</td>\n",
              "      <td>small_business</td>\n",
              "      <td>IL</td>\n",
              "      <td>f</td>\n",
              "    </tr>\n",
              "    <tr>\n",
              "      <th>3</th>\n",
              "      <td>36 months</td>\n",
              "      <td>C</td>\n",
              "      <td>10+ years</td>\n",
              "      <td>RENT</td>\n",
              "      <td>Source Verified</td>\n",
              "      <td>n</td>\n",
              "      <td>other</td>\n",
              "      <td>CA</td>\n",
              "      <td>f</td>\n",
              "    </tr>\n",
              "    <tr>\n",
              "      <th>5</th>\n",
              "      <td>36 months</td>\n",
              "      <td>A</td>\n",
              "      <td>3 years</td>\n",
              "      <td>RENT</td>\n",
              "      <td>Source Verified</td>\n",
              "      <td>n</td>\n",
              "      <td>wedding</td>\n",
              "      <td>AZ</td>\n",
              "      <td>f</td>\n",
              "    </tr>\n",
              "    <tr>\n",
              "      <th>...</th>\n",
              "      <td>...</td>\n",
              "      <td>...</td>\n",
              "      <td>...</td>\n",
              "      <td>...</td>\n",
              "      <td>...</td>\n",
              "      <td>...</td>\n",
              "      <td>...</td>\n",
              "      <td>...</td>\n",
              "      <td>...</td>\n",
              "    </tr>\n",
              "    <tr>\n",
              "      <th>276183</th>\n",
              "      <td>36 months</td>\n",
              "      <td>B</td>\n",
              "      <td>10+ years</td>\n",
              "      <td>MORTGAGE</td>\n",
              "      <td>Verified</td>\n",
              "      <td>n</td>\n",
              "      <td>credit_card</td>\n",
              "      <td>FL</td>\n",
              "      <td>f</td>\n",
              "    </tr>\n",
              "    <tr>\n",
              "      <th>276185</th>\n",
              "      <td>36 months</td>\n",
              "      <td>D</td>\n",
              "      <td>7 years</td>\n",
              "      <td>RENT</td>\n",
              "      <td>Verified</td>\n",
              "      <td>n</td>\n",
              "      <td>small_business</td>\n",
              "      <td>VA</td>\n",
              "      <td>f</td>\n",
              "    </tr>\n",
              "    <tr>\n",
              "      <th>276187</th>\n",
              "      <td>60 months</td>\n",
              "      <td>C</td>\n",
              "      <td>6 years</td>\n",
              "      <td>MORTGAGE</td>\n",
              "      <td>Source Verified</td>\n",
              "      <td>n</td>\n",
              "      <td>debt_consolidation</td>\n",
              "      <td>FL</td>\n",
              "      <td>w</td>\n",
              "    </tr>\n",
              "    <tr>\n",
              "      <th>276193</th>\n",
              "      <td>60 months</td>\n",
              "      <td>C</td>\n",
              "      <td>4 years</td>\n",
              "      <td>RENT</td>\n",
              "      <td>Verified</td>\n",
              "      <td>n</td>\n",
              "      <td>debt_consolidation</td>\n",
              "      <td>WI</td>\n",
              "      <td>w</td>\n",
              "    </tr>\n",
              "    <tr>\n",
              "      <th>276202</th>\n",
              "      <td>36 months</td>\n",
              "      <td>A</td>\n",
              "      <td>2 years</td>\n",
              "      <td>MORTGAGE</td>\n",
              "      <td>Source Verified</td>\n",
              "      <td>n</td>\n",
              "      <td>home_improvement</td>\n",
              "      <td>CA</td>\n",
              "      <td>f</td>\n",
              "    </tr>\n",
              "  </tbody>\n",
              "</table>\n",
              "<p>174079 rows × 9 columns</p>\n",
              "</div>\n",
              "      <button class=\"colab-df-convert\" onclick=\"convertToInteractive('df-7471ba9b-4eb1-461d-83fe-b35fd1fe59f8')\"\n",
              "              title=\"Convert this dataframe to an interactive table.\"\n",
              "              style=\"display:none;\">\n",
              "        \n",
              "  <svg xmlns=\"http://www.w3.org/2000/svg\" height=\"24px\"viewBox=\"0 0 24 24\"\n",
              "       width=\"24px\">\n",
              "    <path d=\"M0 0h24v24H0V0z\" fill=\"none\"/>\n",
              "    <path d=\"M18.56 5.44l.94 2.06.94-2.06 2.06-.94-2.06-.94-.94-2.06-.94 2.06-2.06.94zm-11 1L8.5 8.5l.94-2.06 2.06-.94-2.06-.94L8.5 2.5l-.94 2.06-2.06.94zm10 10l.94 2.06.94-2.06 2.06-.94-2.06-.94-.94-2.06-.94 2.06-2.06.94z\"/><path d=\"M17.41 7.96l-1.37-1.37c-.4-.4-.92-.59-1.43-.59-.52 0-1.04.2-1.43.59L10.3 9.45l-7.72 7.72c-.78.78-.78 2.05 0 2.83L4 21.41c.39.39.9.59 1.41.59.51 0 1.02-.2 1.41-.59l7.78-7.78 2.81-2.81c.8-.78.8-2.07 0-2.86zM5.41 20L4 18.59l7.72-7.72 1.47 1.35L5.41 20z\"/>\n",
              "  </svg>\n",
              "      </button>\n",
              "      \n",
              "  <style>\n",
              "    .colab-df-container {\n",
              "      display:flex;\n",
              "      flex-wrap:wrap;\n",
              "      gap: 12px;\n",
              "    }\n",
              "\n",
              "    .colab-df-convert {\n",
              "      background-color: #E8F0FE;\n",
              "      border: none;\n",
              "      border-radius: 50%;\n",
              "      cursor: pointer;\n",
              "      display: none;\n",
              "      fill: #1967D2;\n",
              "      height: 32px;\n",
              "      padding: 0 0 0 0;\n",
              "      width: 32px;\n",
              "    }\n",
              "\n",
              "    .colab-df-convert:hover {\n",
              "      background-color: #E2EBFA;\n",
              "      box-shadow: 0px 1px 2px rgba(60, 64, 67, 0.3), 0px 1px 3px 1px rgba(60, 64, 67, 0.15);\n",
              "      fill: #174EA6;\n",
              "    }\n",
              "\n",
              "    [theme=dark] .colab-df-convert {\n",
              "      background-color: #3B4455;\n",
              "      fill: #D2E3FC;\n",
              "    }\n",
              "\n",
              "    [theme=dark] .colab-df-convert:hover {\n",
              "      background-color: #434B5C;\n",
              "      box-shadow: 0px 1px 3px 1px rgba(0, 0, 0, 0.15);\n",
              "      filter: drop-shadow(0px 1px 2px rgba(0, 0, 0, 0.3));\n",
              "      fill: #FFFFFF;\n",
              "    }\n",
              "  </style>\n",
              "\n",
              "      <script>\n",
              "        const buttonEl =\n",
              "          document.querySelector('#df-7471ba9b-4eb1-461d-83fe-b35fd1fe59f8 button.colab-df-convert');\n",
              "        buttonEl.style.display =\n",
              "          google.colab.kernel.accessAllowed ? 'block' : 'none';\n",
              "\n",
              "        async function convertToInteractive(key) {\n",
              "          const element = document.querySelector('#df-7471ba9b-4eb1-461d-83fe-b35fd1fe59f8');\n",
              "          const dataTable =\n",
              "            await google.colab.kernel.invokeFunction('convertToInteractive',\n",
              "                                                     [key], {});\n",
              "          if (!dataTable) return;\n",
              "\n",
              "          const docLinkHtml = 'Like what you see? Visit the ' +\n",
              "            '<a target=\"_blank\" href=https://colab.research.google.com/notebooks/data_table.ipynb>data table notebook</a>'\n",
              "            + ' to learn more about interactive tables.';\n",
              "          element.innerHTML = '';\n",
              "          dataTable['output_type'] = 'display_data';\n",
              "          await google.colab.output.renderOutput(dataTable, element);\n",
              "          const docLink = document.createElement('div');\n",
              "          docLink.innerHTML = docLinkHtml;\n",
              "          element.appendChild(docLink);\n",
              "        }\n",
              "      </script>\n",
              "    </div>\n",
              "  </div>\n",
              "  "
            ]
          },
          "metadata": {},
          "execution_count": 43
        }
      ]
    },
    {
      "cell_type": "markdown",
      "source": [
        "**Label encoding**<br>\n",
        "Dilakukan label encoding untuk feature yang dapat direpresentasikan dengan nilai ordinal yang dipengaruhi peringkat."
      ],
      "metadata": {
        "id": "j3PemY4vQNTh"
      }
    },
    {
      "cell_type": "code",
      "source": [
        "new_df['term'].value_counts()"
      ],
      "metadata": {
        "colab": {
          "base_uri": "https://localhost:8080/"
        },
        "id": "JJ11Bj4Mjipl",
        "outputId": "01c2ab1c-f4e7-4a22-d477-a9ffd9cf7a0a"
      },
      "execution_count": 44,
      "outputs": [
        {
          "output_type": "execute_result",
          "data": {
            "text/plain": [
              " 36 months    139438\n",
              " 60 months     34641\n",
              "Name: term, dtype: int64"
            ]
          },
          "metadata": {},
          "execution_count": 44
        }
      ]
    },
    {
      "cell_type": "code",
      "source": [
        "#1. Mengubah 'term'\n",
        "new_df['term'] = new_df['term'].str.replace(' months', '').astype(int)"
      ],
      "metadata": {
        "id": "ufgznq8RoSbe"
      },
      "execution_count": 45,
      "outputs": []
    },
    {
      "cell_type": "code",
      "source": [
        "new_df['grade'].value_counts()"
      ],
      "metadata": {
        "colab": {
          "base_uri": "https://localhost:8080/"
        },
        "id": "w6U4wMXRj0aG",
        "outputId": "f60c80a1-ce37-4982-98b1-744757e3ce7d"
      },
      "execution_count": 46,
      "outputs": [
        {
          "output_type": "execute_result",
          "data": {
            "text/plain": [
              "B    55868\n",
              "C    42821\n",
              "A    31271\n",
              "D    26025\n",
              "E    11671\n",
              "F     5117\n",
              "G     1306\n",
              "Name: grade, dtype: int64"
            ]
          },
          "metadata": {},
          "execution_count": 46
        }
      ]
    },
    {
      "cell_type": "code",
      "source": [
        "#2. Mengubah 'grade'\n",
        "grade_new = {'A' : 1,'B' : 2,'C' : 3,'D' : 4,'E' : 5,'F' : 6,'G' : 7,}\n",
        "\n",
        "new_df['grade'] = new_df['grade'].map(grade_new)"
      ],
      "metadata": {
        "id": "SUEp2HyZozHQ"
      },
      "execution_count": 47,
      "outputs": []
    },
    {
      "cell_type": "code",
      "source": [
        "new_df['emp_length'].value_counts()"
      ],
      "metadata": {
        "colab": {
          "base_uri": "https://localhost:8080/"
        },
        "id": "cTAKo7Zym1V3",
        "outputId": "6b47f2bd-6d03-4061-9878-e3efe3957252"
      },
      "execution_count": 48,
      "outputs": [
        {
          "output_type": "execute_result",
          "data": {
            "text/plain": [
              "10+ years                        50071\n",
              "2 years                          16579\n",
              "< 1 year                         14947\n",
              "3 years                          14316\n",
              "5 years                          13587\n",
              "1 year                           12027\n",
              "4 years                          11675\n",
              "6 years                          10825\n",
              "7 years                           9750\n",
              "8 years                           7769\n",
              "9 years                           6304\n",
              "0    10+ years\\ndtype: object     6229\n",
              "Name: emp_length, dtype: int64"
            ]
          },
          "metadata": {},
          "execution_count": 48
        }
      ]
    },
    {
      "cell_type": "code",
      "source": [
        "#3. Mengubah 'emp_length'\n",
        "empl_new = {'< 1 year' : 0,'1 year' : 1,'2 years' : 2,'3 years' : 3,'4 years' : 4,'5 years' : 5,'6 years' : 6, '7 years' : 7, '8 years' : 8, 'years' : 9, '0    10+ years\\ndtype: object' : 10, '10+ years' : 10}\n",
        "new_df['emp_length'] = new_df['emp_length'].map(empl_new)"
      ],
      "metadata": {
        "id": "aP-L5c6Hrysq"
      },
      "execution_count": 49,
      "outputs": []
    },
    {
      "cell_type": "code",
      "source": [
        "new_df['home_ownership'].value_counts()"
      ],
      "metadata": {
        "colab": {
          "base_uri": "https://localhost:8080/"
        },
        "id": "ObvTQ_k0nMUL",
        "outputId": "628b116b-eb49-4fb4-d67d-b8a6ccdfd983"
      },
      "execution_count": 50,
      "outputs": [
        {
          "output_type": "execute_result",
          "data": {
            "text/plain": [
              "MORTGAGE    84460\n",
              "RENT        75386\n",
              "OWN         14006\n",
              "OTHER         179\n",
              "NONE           48\n",
              "Name: home_ownership, dtype: int64"
            ]
          },
          "metadata": {},
          "execution_count": 50
        }
      ]
    },
    {
      "cell_type": "code",
      "source": [
        "#4. Mengubah home ownership\n",
        "\n",
        "home_new = {'NONE' : 'OTHER', 'ANY' : 'OTHER'}\n",
        "new_df['home_ownership'] = new_df['home_ownership'].map(home_new)"
      ],
      "metadata": {
        "id": "XQ4M2jaOuEJj"
      },
      "execution_count": 51,
      "outputs": []
    },
    {
      "cell_type": "code",
      "source": [
        "new_df['initial_list_status'].value_counts()"
      ],
      "metadata": {
        "colab": {
          "base_uri": "https://localhost:8080/"
        },
        "id": "qaFxdAjjnwtx",
        "outputId": "d892b2e8-f25c-4613-d59b-be8ba0a32d81"
      },
      "execution_count": 52,
      "outputs": [
        {
          "output_type": "execute_result",
          "data": {
            "text/plain": [
              "f    145009\n",
              "w     29070\n",
              "Name: initial_list_status, dtype: int64"
            ]
          },
          "metadata": {},
          "execution_count": 52
        }
      ]
    },
    {
      "cell_type": "code",
      "source": [
        "#5. Mengubah 'initial_list_status'\n",
        "init_new = {'f' : 1, 'w' : 0}\n",
        "new_df['initial_list_status'] = new_df['initial_list_status'].map(init_new)"
      ],
      "metadata": {
        "id": "xJlpJknz6AaB"
      },
      "execution_count": 53,
      "outputs": []
    },
    {
      "cell_type": "markdown",
      "source": [
        "**One-hot encoding**<br>\n",
        "Dilakukan one-hot encoding untuk feature nonnumerik yang tidak dapat direpresentasikan dalam ordinal atau peringkat."
      ],
      "metadata": {
        "id": "JXAwG1PsP7tJ"
      }
    },
    {
      "cell_type": "code",
      "source": [
        "new_df['verification_status'].unique()"
      ],
      "metadata": {
        "colab": {
          "base_uri": "https://localhost:8080/"
        },
        "id": "EGoOdVk0nby4",
        "outputId": "0d98fe23-f260-4fe8-e1a7-96753d19f361"
      },
      "execution_count": 54,
      "outputs": [
        {
          "output_type": "execute_result",
          "data": {
            "text/plain": [
              "array(['Verified', 'Source Verified', 'Not Verified'], dtype=object)"
            ]
          },
          "metadata": {},
          "execution_count": 54
        }
      ]
    },
    {
      "cell_type": "code",
      "source": [
        "new_df['purpose'].unique()"
      ],
      "metadata": {
        "colab": {
          "base_uri": "https://localhost:8080/"
        },
        "id": "dwPbJ1gjnjkB",
        "outputId": "4be74544-624c-4606-be35-fdf3007f1c68"
      },
      "execution_count": 55,
      "outputs": [
        {
          "output_type": "execute_result",
          "data": {
            "text/plain": [
              "array(['credit_card', 'car', 'small_business', 'other', 'wedding',\n",
              "       'debt_consolidation', 'home_improvement', 'major_purchase',\n",
              "       'medical', 'moving', 'vacation', 'house', 'renewable_energy',\n",
              "       'educational'], dtype=object)"
            ]
          },
          "metadata": {},
          "execution_count": 55
        }
      ]
    },
    {
      "cell_type": "code",
      "source": [
        "new_df['addr_state'].unique()"
      ],
      "metadata": {
        "colab": {
          "base_uri": "https://localhost:8080/"
        },
        "id": "_48X3YMnnrE_",
        "outputId": "d556c34c-0b31-4aae-f2a7-2afcebd23eda"
      },
      "execution_count": 56,
      "outputs": [
        {
          "output_type": "execute_result",
          "data": {
            "text/plain": [
              "array(['AZ', 'GA', 'IL', 'CA', 'TX', 'VA', 'MO', 'CT', 'UT', 'FL', 'NY',\n",
              "       'PA', 'MN', 'NJ', 'OR', 'KY', 'OH', 'SC', 'RI', 'LA', 'MA', 'WA',\n",
              "       'WI', 'AL', 'NV', 'AK', 'CO', 'MD', 'WV', 'VT', 'MI', 'DC', 'SD',\n",
              "       'NC', 'AR', 'NM', 'KS', 'HI', 'OK', 'MT', 'WY', 'NH', 'DE', 'MS',\n",
              "       'TN', 'IA', 'NE', 'ID', 'IN', 'ME'], dtype=object)"
            ]
          },
          "metadata": {},
          "execution_count": 56
        }
      ]
    },
    {
      "cell_type": "code",
      "source": [
        "#One hot encoding\n",
        "onehot = ['verification_status', 'purpose', 'addr_state']\n",
        "\n",
        "dummy = pd.get_dummies(new_df[onehot])"
      ],
      "metadata": {
        "id": "IonXphC_FxnO"
      },
      "execution_count": 57,
      "outputs": []
    },
    {
      "cell_type": "markdown",
      "source": [
        "Memilih feature numerik yang memiliki korelasi positif 5 teratas dan negatif 4 teratas terhadap feature target."
      ],
      "metadata": {
        "id": "DDE1ERCdQjCx"
      }
    },
    {
      "cell_type": "code",
      "source": [
        "new_df.corr()['target'][:].sort_values(ascending = True).head(5)"
      ],
      "metadata": {
        "colab": {
          "base_uri": "https://localhost:8080/"
        },
        "outputId": "5cfca761-5e47-4155-e1fb-4d1bc24f2530",
        "id": "qOKXtIM4guZ4"
      },
      "execution_count": 58,
      "outputs": [
        {
          "output_type": "execute_result",
          "data": {
            "text/plain": [
              "int_rate     -0.248112\n",
              "grade        -0.239787\n",
              "term         -0.177767\n",
              "dti          -0.112771\n",
              "revol_util   -0.098733\n",
              "Name: target, dtype: float64"
            ]
          },
          "metadata": {},
          "execution_count": 58
        }
      ]
    },
    {
      "cell_type": "code",
      "source": [
        "new_df.corr()['target'][:].sort_values(ascending = False).head(5)"
      ],
      "metadata": {
        "colab": {
          "base_uri": "https://localhost:8080/"
        },
        "id": "7dfhl0rgDHJb",
        "outputId": "7ba02667-9405-42ae-cce7-89881cccde10"
      },
      "execution_count": 59,
      "outputs": [
        {
          "output_type": "execute_result",
          "data": {
            "text/plain": [
              "target                 1.000000\n",
              "annual_inc             0.054469\n",
              "initial_list_status    0.026901\n",
              "total_acc              0.018892\n",
              "revol_bal             -0.002728\n",
              "Name: target, dtype: float64"
            ]
          },
          "metadata": {},
          "execution_count": 59
        }
      ]
    },
    {
      "cell_type": "code",
      "source": [
        "cor_col = ['target','int_rate','grade','term','dti','revol_util', 'annual_inc', 'initial_list_status', 'total_acc', 'revol_bal' ]"
      ],
      "metadata": {
        "id": "IWck4_7NDJ9l"
      },
      "execution_count": 60,
      "outputs": []
    },
    {
      "cell_type": "code",
      "source": [
        "cor_df = new_df[cor_col].copy()"
      ],
      "metadata": {
        "id": "-S8RhHXeDnsa"
      },
      "execution_count": 61,
      "outputs": []
    },
    {
      "cell_type": "code",
      "source": [
        "#menggabungkan data cor dan dummy\n",
        "concat_df = pd.concat([cor_df, dummy], axis = 1)"
      ],
      "metadata": {
        "id": "FzDBQL9uGHJE"
      },
      "execution_count": 62,
      "outputs": []
    },
    {
      "cell_type": "code",
      "source": [
        "concat_df.shape"
      ],
      "metadata": {
        "colab": {
          "base_uri": "https://localhost:8080/"
        },
        "id": "pnZXc1tUGe9a",
        "outputId": "d9577297-ac65-48e7-dd6d-6296ef6ba714"
      },
      "execution_count": 63,
      "outputs": [
        {
          "output_type": "execute_result",
          "data": {
            "text/plain": [
              "(174079, 77)"
            ]
          },
          "metadata": {},
          "execution_count": 63
        }
      ]
    },
    {
      "cell_type": "markdown",
      "source": [
        "## Imbalance Handling"
      ],
      "metadata": {
        "id": "KZGF2Le9HY7W"
      }
    },
    {
      "cell_type": "code",
      "source": [
        "concat_df['target'].value_counts()"
      ],
      "metadata": {
        "colab": {
          "base_uri": "https://localhost:8080/"
        },
        "id": "nM6DfTY3Hv-D",
        "outputId": "f44e8308-daeb-4f9a-a8af-4ec58fec98c1"
      },
      "execution_count": 64,
      "outputs": [
        {
          "output_type": "execute_result",
          "data": {
            "text/plain": [
              "1    139347\n",
              "0     34732\n",
              "Name: target, dtype: int64"
            ]
          },
          "metadata": {},
          "execution_count": 64
        }
      ]
    },
    {
      "cell_type": "code",
      "source": [
        "concat_df['target'].value_counts(normalize= True)"
      ],
      "metadata": {
        "colab": {
          "base_uri": "https://localhost:8080/"
        },
        "id": "r7ELGj0mHsZw",
        "outputId": "5ce0ac7f-c190-4acb-e20e-60ff249419dc"
      },
      "execution_count": 65,
      "outputs": [
        {
          "output_type": "execute_result",
          "data": {
            "text/plain": [
              "1    0.800481\n",
              "0    0.199519\n",
              "Name: target, dtype: float64"
            ]
          },
          "metadata": {},
          "execution_count": 65
        }
      ]
    },
    {
      "cell_type": "markdown",
      "source": [
        "Melakukan upsampling untuk target 0 atau bad loan, dan downsampling untuk target 1 atau good loan."
      ],
      "metadata": {
        "id": "J7-HL5Q6Q34D"
      }
    },
    {
      "cell_type": "code",
      "source": [
        "df_major = concat_df[(concat_df['target']==0)]\n",
        "df_minor = concat_df[(concat_df['target']==1)]\n",
        "\n",
        "df_minor_up = resample(df_minor, replace = True, n_samples = 119456, random_state = 42)\n",
        "df_major_down = resample(df_major, replace = True, n_samples = 119456, random_state = 42)\n",
        "df_upsampled = pd.concat([df_minor_up,df_major_down])"
      ],
      "metadata": {
        "id": "4xKWdAPhHbQT"
      },
      "execution_count": 66,
      "outputs": []
    },
    {
      "cell_type": "code",
      "source": [
        "df_upsampled['target'].value_counts(normalize= True)"
      ],
      "metadata": {
        "colab": {
          "base_uri": "https://localhost:8080/"
        },
        "id": "HcvIU6cdIYCl",
        "outputId": "75d9e351-b4d6-4245-b863-13e498a3269a"
      },
      "execution_count": 67,
      "outputs": [
        {
          "output_type": "execute_result",
          "data": {
            "text/plain": [
              "1    0.5\n",
              "0    0.5\n",
              "Name: target, dtype: float64"
            ]
          },
          "metadata": {},
          "execution_count": 67
        }
      ]
    },
    {
      "cell_type": "code",
      "source": [
        "df_upsampled.head()"
      ],
      "metadata": {
        "colab": {
          "base_uri": "https://localhost:8080/",
          "height": 299
        },
        "id": "7aFZRiXWIuHK",
        "outputId": "6d6cac55-a97e-437e-d328-a7a300ac6e4d"
      },
      "execution_count": 68,
      "outputs": [
        {
          "output_type": "execute_result",
          "data": {
            "text/plain": [
              "        target  int_rate  grade  term    dti  revol_util  annual_inc  \\\n",
              "217852       1     10.74      2    36  19.85        33.6     22000.0   \n",
              "230539       1     14.27      3    60  18.74        95.0     88000.0   \n",
              "194264       1     14.33      3    36  13.80        65.5     38000.0   \n",
              "215135       1      6.62      1    36   4.23        20.4    125000.0   \n",
              "202650       1      7.90      1    36  18.82        61.8     59500.0   \n",
              "\n",
              "        initial_list_status  total_acc  revol_bal  ...  addr_state_SD  \\\n",
              "217852                    1       11.0     3358.0  ...              0   \n",
              "230539                    1       16.0    18998.0  ...              0   \n",
              "194264                    1        9.0     9568.0  ...              0   \n",
              "215135                    1       25.0     9010.0  ...              0   \n",
              "202650                    1       42.0    15070.0  ...              0   \n",
              "\n",
              "        addr_state_TN  addr_state_TX  addr_state_UT  addr_state_VA  \\\n",
              "217852              0              1              0              0   \n",
              "230539              0              0              0              0   \n",
              "194264              0              0              0              0   \n",
              "215135              0              0              0              0   \n",
              "202650              0              0              0              0   \n",
              "\n",
              "        addr_state_VT  addr_state_WA  addr_state_WI  addr_state_WV  \\\n",
              "217852              0              0              0              0   \n",
              "230539              0              0              0              0   \n",
              "194264              0              0              0              0   \n",
              "215135              0              0              0              0   \n",
              "202650              0              0              0              0   \n",
              "\n",
              "        addr_state_WY  \n",
              "217852              0  \n",
              "230539              0  \n",
              "194264              0  \n",
              "215135              0  \n",
              "202650              0  \n",
              "\n",
              "[5 rows x 77 columns]"
            ],
            "text/html": [
              "\n",
              "  <div id=\"df-749e1d06-2345-4268-91b0-2b7748ac15e0\">\n",
              "    <div class=\"colab-df-container\">\n",
              "      <div>\n",
              "<style scoped>\n",
              "    .dataframe tbody tr th:only-of-type {\n",
              "        vertical-align: middle;\n",
              "    }\n",
              "\n",
              "    .dataframe tbody tr th {\n",
              "        vertical-align: top;\n",
              "    }\n",
              "\n",
              "    .dataframe thead th {\n",
              "        text-align: right;\n",
              "    }\n",
              "</style>\n",
              "<table border=\"1\" class=\"dataframe\">\n",
              "  <thead>\n",
              "    <tr style=\"text-align: right;\">\n",
              "      <th></th>\n",
              "      <th>target</th>\n",
              "      <th>int_rate</th>\n",
              "      <th>grade</th>\n",
              "      <th>term</th>\n",
              "      <th>dti</th>\n",
              "      <th>revol_util</th>\n",
              "      <th>annual_inc</th>\n",
              "      <th>initial_list_status</th>\n",
              "      <th>total_acc</th>\n",
              "      <th>revol_bal</th>\n",
              "      <th>...</th>\n",
              "      <th>addr_state_SD</th>\n",
              "      <th>addr_state_TN</th>\n",
              "      <th>addr_state_TX</th>\n",
              "      <th>addr_state_UT</th>\n",
              "      <th>addr_state_VA</th>\n",
              "      <th>addr_state_VT</th>\n",
              "      <th>addr_state_WA</th>\n",
              "      <th>addr_state_WI</th>\n",
              "      <th>addr_state_WV</th>\n",
              "      <th>addr_state_WY</th>\n",
              "    </tr>\n",
              "  </thead>\n",
              "  <tbody>\n",
              "    <tr>\n",
              "      <th>217852</th>\n",
              "      <td>1</td>\n",
              "      <td>10.74</td>\n",
              "      <td>2</td>\n",
              "      <td>36</td>\n",
              "      <td>19.85</td>\n",
              "      <td>33.6</td>\n",
              "      <td>22000.0</td>\n",
              "      <td>1</td>\n",
              "      <td>11.0</td>\n",
              "      <td>3358.0</td>\n",
              "      <td>...</td>\n",
              "      <td>0</td>\n",
              "      <td>0</td>\n",
              "      <td>1</td>\n",
              "      <td>0</td>\n",
              "      <td>0</td>\n",
              "      <td>0</td>\n",
              "      <td>0</td>\n",
              "      <td>0</td>\n",
              "      <td>0</td>\n",
              "      <td>0</td>\n",
              "    </tr>\n",
              "    <tr>\n",
              "      <th>230539</th>\n",
              "      <td>1</td>\n",
              "      <td>14.27</td>\n",
              "      <td>3</td>\n",
              "      <td>60</td>\n",
              "      <td>18.74</td>\n",
              "      <td>95.0</td>\n",
              "      <td>88000.0</td>\n",
              "      <td>1</td>\n",
              "      <td>16.0</td>\n",
              "      <td>18998.0</td>\n",
              "      <td>...</td>\n",
              "      <td>0</td>\n",
              "      <td>0</td>\n",
              "      <td>0</td>\n",
              "      <td>0</td>\n",
              "      <td>0</td>\n",
              "      <td>0</td>\n",
              "      <td>0</td>\n",
              "      <td>0</td>\n",
              "      <td>0</td>\n",
              "      <td>0</td>\n",
              "    </tr>\n",
              "    <tr>\n",
              "      <th>194264</th>\n",
              "      <td>1</td>\n",
              "      <td>14.33</td>\n",
              "      <td>3</td>\n",
              "      <td>36</td>\n",
              "      <td>13.80</td>\n",
              "      <td>65.5</td>\n",
              "      <td>38000.0</td>\n",
              "      <td>1</td>\n",
              "      <td>9.0</td>\n",
              "      <td>9568.0</td>\n",
              "      <td>...</td>\n",
              "      <td>0</td>\n",
              "      <td>0</td>\n",
              "      <td>0</td>\n",
              "      <td>0</td>\n",
              "      <td>0</td>\n",
              "      <td>0</td>\n",
              "      <td>0</td>\n",
              "      <td>0</td>\n",
              "      <td>0</td>\n",
              "      <td>0</td>\n",
              "    </tr>\n",
              "    <tr>\n",
              "      <th>215135</th>\n",
              "      <td>1</td>\n",
              "      <td>6.62</td>\n",
              "      <td>1</td>\n",
              "      <td>36</td>\n",
              "      <td>4.23</td>\n",
              "      <td>20.4</td>\n",
              "      <td>125000.0</td>\n",
              "      <td>1</td>\n",
              "      <td>25.0</td>\n",
              "      <td>9010.0</td>\n",
              "      <td>...</td>\n",
              "      <td>0</td>\n",
              "      <td>0</td>\n",
              "      <td>0</td>\n",
              "      <td>0</td>\n",
              "      <td>0</td>\n",
              "      <td>0</td>\n",
              "      <td>0</td>\n",
              "      <td>0</td>\n",
              "      <td>0</td>\n",
              "      <td>0</td>\n",
              "    </tr>\n",
              "    <tr>\n",
              "      <th>202650</th>\n",
              "      <td>1</td>\n",
              "      <td>7.90</td>\n",
              "      <td>1</td>\n",
              "      <td>36</td>\n",
              "      <td>18.82</td>\n",
              "      <td>61.8</td>\n",
              "      <td>59500.0</td>\n",
              "      <td>1</td>\n",
              "      <td>42.0</td>\n",
              "      <td>15070.0</td>\n",
              "      <td>...</td>\n",
              "      <td>0</td>\n",
              "      <td>0</td>\n",
              "      <td>0</td>\n",
              "      <td>0</td>\n",
              "      <td>0</td>\n",
              "      <td>0</td>\n",
              "      <td>0</td>\n",
              "      <td>0</td>\n",
              "      <td>0</td>\n",
              "      <td>0</td>\n",
              "    </tr>\n",
              "  </tbody>\n",
              "</table>\n",
              "<p>5 rows × 77 columns</p>\n",
              "</div>\n",
              "      <button class=\"colab-df-convert\" onclick=\"convertToInteractive('df-749e1d06-2345-4268-91b0-2b7748ac15e0')\"\n",
              "              title=\"Convert this dataframe to an interactive table.\"\n",
              "              style=\"display:none;\">\n",
              "        \n",
              "  <svg xmlns=\"http://www.w3.org/2000/svg\" height=\"24px\"viewBox=\"0 0 24 24\"\n",
              "       width=\"24px\">\n",
              "    <path d=\"M0 0h24v24H0V0z\" fill=\"none\"/>\n",
              "    <path d=\"M18.56 5.44l.94 2.06.94-2.06 2.06-.94-2.06-.94-.94-2.06-.94 2.06-2.06.94zm-11 1L8.5 8.5l.94-2.06 2.06-.94-2.06-.94L8.5 2.5l-.94 2.06-2.06.94zm10 10l.94 2.06.94-2.06 2.06-.94-2.06-.94-.94-2.06-.94 2.06-2.06.94z\"/><path d=\"M17.41 7.96l-1.37-1.37c-.4-.4-.92-.59-1.43-.59-.52 0-1.04.2-1.43.59L10.3 9.45l-7.72 7.72c-.78.78-.78 2.05 0 2.83L4 21.41c.39.39.9.59 1.41.59.51 0 1.02-.2 1.41-.59l7.78-7.78 2.81-2.81c.8-.78.8-2.07 0-2.86zM5.41 20L4 18.59l7.72-7.72 1.47 1.35L5.41 20z\"/>\n",
              "  </svg>\n",
              "      </button>\n",
              "      \n",
              "  <style>\n",
              "    .colab-df-container {\n",
              "      display:flex;\n",
              "      flex-wrap:wrap;\n",
              "      gap: 12px;\n",
              "    }\n",
              "\n",
              "    .colab-df-convert {\n",
              "      background-color: #E8F0FE;\n",
              "      border: none;\n",
              "      border-radius: 50%;\n",
              "      cursor: pointer;\n",
              "      display: none;\n",
              "      fill: #1967D2;\n",
              "      height: 32px;\n",
              "      padding: 0 0 0 0;\n",
              "      width: 32px;\n",
              "    }\n",
              "\n",
              "    .colab-df-convert:hover {\n",
              "      background-color: #E2EBFA;\n",
              "      box-shadow: 0px 1px 2px rgba(60, 64, 67, 0.3), 0px 1px 3px 1px rgba(60, 64, 67, 0.15);\n",
              "      fill: #174EA6;\n",
              "    }\n",
              "\n",
              "    [theme=dark] .colab-df-convert {\n",
              "      background-color: #3B4455;\n",
              "      fill: #D2E3FC;\n",
              "    }\n",
              "\n",
              "    [theme=dark] .colab-df-convert:hover {\n",
              "      background-color: #434B5C;\n",
              "      box-shadow: 0px 1px 3px 1px rgba(0, 0, 0, 0.15);\n",
              "      filter: drop-shadow(0px 1px 2px rgba(0, 0, 0, 0.3));\n",
              "      fill: #FFFFFF;\n",
              "    }\n",
              "  </style>\n",
              "\n",
              "      <script>\n",
              "        const buttonEl =\n",
              "          document.querySelector('#df-749e1d06-2345-4268-91b0-2b7748ac15e0 button.colab-df-convert');\n",
              "        buttonEl.style.display =\n",
              "          google.colab.kernel.accessAllowed ? 'block' : 'none';\n",
              "\n",
              "        async function convertToInteractive(key) {\n",
              "          const element = document.querySelector('#df-749e1d06-2345-4268-91b0-2b7748ac15e0');\n",
              "          const dataTable =\n",
              "            await google.colab.kernel.invokeFunction('convertToInteractive',\n",
              "                                                     [key], {});\n",
              "          if (!dataTable) return;\n",
              "\n",
              "          const docLinkHtml = 'Like what you see? Visit the ' +\n",
              "            '<a target=\"_blank\" href=https://colab.research.google.com/notebooks/data_table.ipynb>data table notebook</a>'\n",
              "            + ' to learn more about interactive tables.';\n",
              "          element.innerHTML = '';\n",
              "          dataTable['output_type'] = 'display_data';\n",
              "          await google.colab.output.renderOutput(dataTable, element);\n",
              "          const docLink = document.createElement('div');\n",
              "          docLink.innerHTML = docLinkHtml;\n",
              "          element.appendChild(docLink);\n",
              "        }\n",
              "      </script>\n",
              "    </div>\n",
              "  </div>\n",
              "  "
            ]
          },
          "metadata": {},
          "execution_count": 68
        }
      ]
    },
    {
      "cell_type": "markdown",
      "source": [
        "## Standardization"
      ],
      "metadata": {
        "id": "IGLcKCPTI1A6"
      }
    },
    {
      "cell_type": "markdown",
      "source": [
        "Melakukan standardisasi nilai dengan Standard Scaler agar rentang nilai dalam skala yang sama."
      ],
      "metadata": {
        "id": "SciN7Xq4RB36"
      }
    },
    {
      "cell_type": "code",
      "source": [
        "for i in df_upsampled.columns:\n",
        "  scale = StandardScaler().fit(df_upsampled[[i]])\n",
        "  df_upsampled[i] = scale.transform(df_upsampled[[i]])"
      ],
      "metadata": {
        "id": "YN8odA-CI44M"
      },
      "execution_count": 69,
      "outputs": []
    },
    {
      "cell_type": "code",
      "source": [
        "df_upsampled.head()"
      ],
      "metadata": {
        "colab": {
          "base_uri": "https://localhost:8080/",
          "height": 299
        },
        "id": "FmRI7Dq-Ky9O",
        "outputId": "8bd3c333-b8d8-446e-b60f-09b2d9f7140d"
      },
      "execution_count": 70,
      "outputs": [
        {
          "output_type": "execute_result",
          "data": {
            "text/plain": [
              "        target  int_rate     grade      term       dti  revol_util  \\\n",
              "217852     1.0 -0.837065 -0.694477 -0.581932  0.404853   -0.962409   \n",
              "230539     1.0 -0.041966  0.029996  1.718413  0.261142    1.534940   \n",
              "194264     1.0 -0.028452  0.029996 -0.581932 -0.378436    0.335074   \n",
              "215135     1.0 -1.765057 -1.418950 -0.581932 -1.617457   -1.499298   \n",
              "202650     1.0 -1.476749 -1.418950 -0.581932  0.271500    0.184582   \n",
              "\n",
              "        annual_inc  initial_list_status  total_acc  revol_bal  ...  \\\n",
              "217852   -0.915276             0.458505  -1.134267  -0.583454  ...   \n",
              "230539    0.377453             0.458505  -0.695630   0.172849  ...   \n",
              "194264   -0.601887             0.458505  -1.309723  -0.283157  ...   \n",
              "215135    1.102164             0.458505   0.093918  -0.310140  ...   \n",
              "202650   -0.180771             0.458505   1.585287  -0.017097  ...   \n",
              "\n",
              "        addr_state_SD  addr_state_TN  addr_state_TX  addr_state_UT  \\\n",
              "217852      -0.046929      -0.091996       3.582783      -0.087857   \n",
              "230539      -0.046929      -0.091996      -0.279113      -0.087857   \n",
              "194264      -0.046929      -0.091996      -0.279113      -0.087857   \n",
              "215135      -0.046929      -0.091996      -0.279113      -0.087857   \n",
              "202650      -0.046929      -0.091996      -0.279113      -0.087857   \n",
              "\n",
              "        addr_state_VA  addr_state_VT  addr_state_WA  addr_state_WI  \\\n",
              "217852      -0.181459      -0.036393       -0.15359      -0.107512   \n",
              "230539      -0.181459      -0.036393       -0.15359      -0.107512   \n",
              "194264      -0.181459      -0.036393       -0.15359      -0.107512   \n",
              "215135      -0.181459      -0.036393       -0.15359      -0.107512   \n",
              "202650      -0.181459      -0.036393       -0.15359      -0.107512   \n",
              "\n",
              "        addr_state_WV  addr_state_WY  \n",
              "217852      -0.063017      -0.045565  \n",
              "230539      -0.063017      -0.045565  \n",
              "194264      -0.063017      -0.045565  \n",
              "215135      -0.063017      -0.045565  \n",
              "202650      -0.063017      -0.045565  \n",
              "\n",
              "[5 rows x 77 columns]"
            ],
            "text/html": [
              "\n",
              "  <div id=\"df-aad4291f-6ddf-4e0b-b6d3-0b5d46163dbc\">\n",
              "    <div class=\"colab-df-container\">\n",
              "      <div>\n",
              "<style scoped>\n",
              "    .dataframe tbody tr th:only-of-type {\n",
              "        vertical-align: middle;\n",
              "    }\n",
              "\n",
              "    .dataframe tbody tr th {\n",
              "        vertical-align: top;\n",
              "    }\n",
              "\n",
              "    .dataframe thead th {\n",
              "        text-align: right;\n",
              "    }\n",
              "</style>\n",
              "<table border=\"1\" class=\"dataframe\">\n",
              "  <thead>\n",
              "    <tr style=\"text-align: right;\">\n",
              "      <th></th>\n",
              "      <th>target</th>\n",
              "      <th>int_rate</th>\n",
              "      <th>grade</th>\n",
              "      <th>term</th>\n",
              "      <th>dti</th>\n",
              "      <th>revol_util</th>\n",
              "      <th>annual_inc</th>\n",
              "      <th>initial_list_status</th>\n",
              "      <th>total_acc</th>\n",
              "      <th>revol_bal</th>\n",
              "      <th>...</th>\n",
              "      <th>addr_state_SD</th>\n",
              "      <th>addr_state_TN</th>\n",
              "      <th>addr_state_TX</th>\n",
              "      <th>addr_state_UT</th>\n",
              "      <th>addr_state_VA</th>\n",
              "      <th>addr_state_VT</th>\n",
              "      <th>addr_state_WA</th>\n",
              "      <th>addr_state_WI</th>\n",
              "      <th>addr_state_WV</th>\n",
              "      <th>addr_state_WY</th>\n",
              "    </tr>\n",
              "  </thead>\n",
              "  <tbody>\n",
              "    <tr>\n",
              "      <th>217852</th>\n",
              "      <td>1.0</td>\n",
              "      <td>-0.837065</td>\n",
              "      <td>-0.694477</td>\n",
              "      <td>-0.581932</td>\n",
              "      <td>0.404853</td>\n",
              "      <td>-0.962409</td>\n",
              "      <td>-0.915276</td>\n",
              "      <td>0.458505</td>\n",
              "      <td>-1.134267</td>\n",
              "      <td>-0.583454</td>\n",
              "      <td>...</td>\n",
              "      <td>-0.046929</td>\n",
              "      <td>-0.091996</td>\n",
              "      <td>3.582783</td>\n",
              "      <td>-0.087857</td>\n",
              "      <td>-0.181459</td>\n",
              "      <td>-0.036393</td>\n",
              "      <td>-0.15359</td>\n",
              "      <td>-0.107512</td>\n",
              "      <td>-0.063017</td>\n",
              "      <td>-0.045565</td>\n",
              "    </tr>\n",
              "    <tr>\n",
              "      <th>230539</th>\n",
              "      <td>1.0</td>\n",
              "      <td>-0.041966</td>\n",
              "      <td>0.029996</td>\n",
              "      <td>1.718413</td>\n",
              "      <td>0.261142</td>\n",
              "      <td>1.534940</td>\n",
              "      <td>0.377453</td>\n",
              "      <td>0.458505</td>\n",
              "      <td>-0.695630</td>\n",
              "      <td>0.172849</td>\n",
              "      <td>...</td>\n",
              "      <td>-0.046929</td>\n",
              "      <td>-0.091996</td>\n",
              "      <td>-0.279113</td>\n",
              "      <td>-0.087857</td>\n",
              "      <td>-0.181459</td>\n",
              "      <td>-0.036393</td>\n",
              "      <td>-0.15359</td>\n",
              "      <td>-0.107512</td>\n",
              "      <td>-0.063017</td>\n",
              "      <td>-0.045565</td>\n",
              "    </tr>\n",
              "    <tr>\n",
              "      <th>194264</th>\n",
              "      <td>1.0</td>\n",
              "      <td>-0.028452</td>\n",
              "      <td>0.029996</td>\n",
              "      <td>-0.581932</td>\n",
              "      <td>-0.378436</td>\n",
              "      <td>0.335074</td>\n",
              "      <td>-0.601887</td>\n",
              "      <td>0.458505</td>\n",
              "      <td>-1.309723</td>\n",
              "      <td>-0.283157</td>\n",
              "      <td>...</td>\n",
              "      <td>-0.046929</td>\n",
              "      <td>-0.091996</td>\n",
              "      <td>-0.279113</td>\n",
              "      <td>-0.087857</td>\n",
              "      <td>-0.181459</td>\n",
              "      <td>-0.036393</td>\n",
              "      <td>-0.15359</td>\n",
              "      <td>-0.107512</td>\n",
              "      <td>-0.063017</td>\n",
              "      <td>-0.045565</td>\n",
              "    </tr>\n",
              "    <tr>\n",
              "      <th>215135</th>\n",
              "      <td>1.0</td>\n",
              "      <td>-1.765057</td>\n",
              "      <td>-1.418950</td>\n",
              "      <td>-0.581932</td>\n",
              "      <td>-1.617457</td>\n",
              "      <td>-1.499298</td>\n",
              "      <td>1.102164</td>\n",
              "      <td>0.458505</td>\n",
              "      <td>0.093918</td>\n",
              "      <td>-0.310140</td>\n",
              "      <td>...</td>\n",
              "      <td>-0.046929</td>\n",
              "      <td>-0.091996</td>\n",
              "      <td>-0.279113</td>\n",
              "      <td>-0.087857</td>\n",
              "      <td>-0.181459</td>\n",
              "      <td>-0.036393</td>\n",
              "      <td>-0.15359</td>\n",
              "      <td>-0.107512</td>\n",
              "      <td>-0.063017</td>\n",
              "      <td>-0.045565</td>\n",
              "    </tr>\n",
              "    <tr>\n",
              "      <th>202650</th>\n",
              "      <td>1.0</td>\n",
              "      <td>-1.476749</td>\n",
              "      <td>-1.418950</td>\n",
              "      <td>-0.581932</td>\n",
              "      <td>0.271500</td>\n",
              "      <td>0.184582</td>\n",
              "      <td>-0.180771</td>\n",
              "      <td>0.458505</td>\n",
              "      <td>1.585287</td>\n",
              "      <td>-0.017097</td>\n",
              "      <td>...</td>\n",
              "      <td>-0.046929</td>\n",
              "      <td>-0.091996</td>\n",
              "      <td>-0.279113</td>\n",
              "      <td>-0.087857</td>\n",
              "      <td>-0.181459</td>\n",
              "      <td>-0.036393</td>\n",
              "      <td>-0.15359</td>\n",
              "      <td>-0.107512</td>\n",
              "      <td>-0.063017</td>\n",
              "      <td>-0.045565</td>\n",
              "    </tr>\n",
              "  </tbody>\n",
              "</table>\n",
              "<p>5 rows × 77 columns</p>\n",
              "</div>\n",
              "      <button class=\"colab-df-convert\" onclick=\"convertToInteractive('df-aad4291f-6ddf-4e0b-b6d3-0b5d46163dbc')\"\n",
              "              title=\"Convert this dataframe to an interactive table.\"\n",
              "              style=\"display:none;\">\n",
              "        \n",
              "  <svg xmlns=\"http://www.w3.org/2000/svg\" height=\"24px\"viewBox=\"0 0 24 24\"\n",
              "       width=\"24px\">\n",
              "    <path d=\"M0 0h24v24H0V0z\" fill=\"none\"/>\n",
              "    <path d=\"M18.56 5.44l.94 2.06.94-2.06 2.06-.94-2.06-.94-.94-2.06-.94 2.06-2.06.94zm-11 1L8.5 8.5l.94-2.06 2.06-.94-2.06-.94L8.5 2.5l-.94 2.06-2.06.94zm10 10l.94 2.06.94-2.06 2.06-.94-2.06-.94-.94-2.06-.94 2.06-2.06.94z\"/><path d=\"M17.41 7.96l-1.37-1.37c-.4-.4-.92-.59-1.43-.59-.52 0-1.04.2-1.43.59L10.3 9.45l-7.72 7.72c-.78.78-.78 2.05 0 2.83L4 21.41c.39.39.9.59 1.41.59.51 0 1.02-.2 1.41-.59l7.78-7.78 2.81-2.81c.8-.78.8-2.07 0-2.86zM5.41 20L4 18.59l7.72-7.72 1.47 1.35L5.41 20z\"/>\n",
              "  </svg>\n",
              "      </button>\n",
              "      \n",
              "  <style>\n",
              "    .colab-df-container {\n",
              "      display:flex;\n",
              "      flex-wrap:wrap;\n",
              "      gap: 12px;\n",
              "    }\n",
              "\n",
              "    .colab-df-convert {\n",
              "      background-color: #E8F0FE;\n",
              "      border: none;\n",
              "      border-radius: 50%;\n",
              "      cursor: pointer;\n",
              "      display: none;\n",
              "      fill: #1967D2;\n",
              "      height: 32px;\n",
              "      padding: 0 0 0 0;\n",
              "      width: 32px;\n",
              "    }\n",
              "\n",
              "    .colab-df-convert:hover {\n",
              "      background-color: #E2EBFA;\n",
              "      box-shadow: 0px 1px 2px rgba(60, 64, 67, 0.3), 0px 1px 3px 1px rgba(60, 64, 67, 0.15);\n",
              "      fill: #174EA6;\n",
              "    }\n",
              "\n",
              "    [theme=dark] .colab-df-convert {\n",
              "      background-color: #3B4455;\n",
              "      fill: #D2E3FC;\n",
              "    }\n",
              "\n",
              "    [theme=dark] .colab-df-convert:hover {\n",
              "      background-color: #434B5C;\n",
              "      box-shadow: 0px 1px 3px 1px rgba(0, 0, 0, 0.15);\n",
              "      filter: drop-shadow(0px 1px 2px rgba(0, 0, 0, 0.3));\n",
              "      fill: #FFFFFF;\n",
              "    }\n",
              "  </style>\n",
              "\n",
              "      <script>\n",
              "        const buttonEl =\n",
              "          document.querySelector('#df-aad4291f-6ddf-4e0b-b6d3-0b5d46163dbc button.colab-df-convert');\n",
              "        buttonEl.style.display =\n",
              "          google.colab.kernel.accessAllowed ? 'block' : 'none';\n",
              "\n",
              "        async function convertToInteractive(key) {\n",
              "          const element = document.querySelector('#df-aad4291f-6ddf-4e0b-b6d3-0b5d46163dbc');\n",
              "          const dataTable =\n",
              "            await google.colab.kernel.invokeFunction('convertToInteractive',\n",
              "                                                     [key], {});\n",
              "          if (!dataTable) return;\n",
              "\n",
              "          const docLinkHtml = 'Like what you see? Visit the ' +\n",
              "            '<a target=\"_blank\" href=https://colab.research.google.com/notebooks/data_table.ipynb>data table notebook</a>'\n",
              "            + ' to learn more about interactive tables.';\n",
              "          element.innerHTML = '';\n",
              "          dataTable['output_type'] = 'display_data';\n",
              "          await google.colab.output.renderOutput(dataTable, element);\n",
              "          const docLink = document.createElement('div');\n",
              "          docLink.innerHTML = docLinkHtml;\n",
              "          element.appendChild(docLink);\n",
              "        }\n",
              "      </script>\n",
              "    </div>\n",
              "  </div>\n",
              "  "
            ]
          },
          "metadata": {},
          "execution_count": 70
        }
      ]
    },
    {
      "cell_type": "markdown",
      "source": [
        "# Modeling"
      ],
      "metadata": {
        "id": "B_e_FaSCGiRn"
      }
    },
    {
      "cell_type": "markdown",
      "source": [
        "Splitting data feature dan target untuk training dan testing."
      ],
      "metadata": {
        "id": "llJuFvy_RKU_"
      }
    },
    {
      "cell_type": "code",
      "source": [
        "#menentukan features dan target kita\n",
        "X = df_upsampled.drop('target', axis = 1) #data features\n",
        "y = df_upsampled['target'] #data target"
      ],
      "metadata": {
        "id": "WCIoEs8nGgaD"
      },
      "execution_count": 71,
      "outputs": []
    },
    {
      "cell_type": "code",
      "source": [
        "from sklearn.model_selection import train_test_split\n",
        "\n",
        "x_train, x_test, y_train, y_test = train_test_split(X, y, random_state = 42)"
      ],
      "metadata": {
        "id": "HE_awDuvKcVA"
      },
      "execution_count": 72,
      "outputs": []
    },
    {
      "cell_type": "markdown",
      "source": [
        "Model yang dibangun meliputi Decision Tree, Random Forest, XGBoost, dan KNN."
      ],
      "metadata": {
        "id": "f4uTlGQgRSLa"
      }
    },
    {
      "cell_type": "markdown",
      "source": [
        "## Decision Tree"
      ],
      "metadata": {
        "id": "2trYeMzGLpfB"
      }
    },
    {
      "cell_type": "code",
      "source": [
        "#Decision tree\n",
        "dtree = DecisionTreeClassifier(random_state = 42)\n",
        "dtree = dtree.fit(x_train, y_train)\n",
        "y_pred = dtree.predict(x_test)\n",
        "print(classification_report(y_test, y_pred))\n"
      ],
      "metadata": {
        "colab": {
          "base_uri": "https://localhost:8080/"
        },
        "id": "BO4vSgN5Z1EG",
        "outputId": "e63b3bee-ee51-49bd-cc94-65436dee2ef6"
      },
      "execution_count": 73,
      "outputs": [
        {
          "output_type": "stream",
          "name": "stdout",
          "text": [
            "              precision    recall  f1-score   support\n",
            "\n",
            "        -1.0       0.86      0.96      0.90     29965\n",
            "         1.0       0.95      0.84      0.89     29763\n",
            "\n",
            "    accuracy                           0.90     59728\n",
            "   macro avg       0.90      0.90      0.90     59728\n",
            "weighted avg       0.90      0.90      0.90     59728\n",
            "\n"
          ]
        }
      ]
    },
    {
      "cell_type": "markdown",
      "source": [
        "## Random Forest"
      ],
      "metadata": {
        "id": "zZA_eRhHMowB"
      }
    },
    {
      "cell_type": "code",
      "source": [
        "#Random Forest\n",
        "randof = RandomForestClassifier(random_state = 42)\n",
        "randof.fit(x_train, y_train)\n",
        "y_pred = randof.predict(x_test)\n",
        "print(classification_report(y_test, y_pred))"
      ],
      "metadata": {
        "colab": {
          "base_uri": "https://localhost:8080/"
        },
        "id": "lOdRvz4oau9M",
        "outputId": "c7d6ec42-006a-4c9b-a797-684a52c2c94c"
      },
      "execution_count": 74,
      "outputs": [
        {
          "output_type": "stream",
          "name": "stdout",
          "text": [
            "              precision    recall  f1-score   support\n",
            "\n",
            "        -1.0       0.91      0.96      0.93     29965\n",
            "         1.0       0.95      0.90      0.93     29763\n",
            "\n",
            "    accuracy                           0.93     59728\n",
            "   macro avg       0.93      0.93      0.93     59728\n",
            "weighted avg       0.93      0.93      0.93     59728\n",
            "\n"
          ]
        }
      ]
    },
    {
      "cell_type": "markdown",
      "source": [
        "## XGBoost"
      ],
      "metadata": {
        "id": "0nQWkXzpMqV9"
      }
    },
    {
      "cell_type": "code",
      "source": [
        "#XGBoost\n",
        "xgb = XGBClassifier(random_state = 42)\n",
        "xgb.fit(x_train, y_train)\n",
        "y_pred = xgb.predict(x_test)\n",
        "print(classification_report(y_test, y_pred))"
      ],
      "metadata": {
        "colab": {
          "base_uri": "https://localhost:8080/"
        },
        "id": "cgjmqXJMa7mi",
        "outputId": "a1c20996-6bc6-4a04-b7f1-ac850e18b7bb"
      },
      "execution_count": 75,
      "outputs": [
        {
          "output_type": "stream",
          "name": "stdout",
          "text": [
            "              precision    recall  f1-score   support\n",
            "\n",
            "        -1.0       0.65      0.65      0.65     29965\n",
            "         1.0       0.65      0.64      0.65     29763\n",
            "\n",
            "    accuracy                           0.65     59728\n",
            "   macro avg       0.65      0.65      0.65     59728\n",
            "weighted avg       0.65      0.65      0.65     59728\n",
            "\n"
          ]
        }
      ]
    },
    {
      "cell_type": "markdown",
      "source": [
        "## KNN"
      ],
      "metadata": {
        "id": "zmgHis_gMsbP"
      }
    },
    {
      "cell_type": "code",
      "source": [
        "#KNN\n",
        "knn = KNeighborsClassifier()\n",
        "knn.fit(x_train, y_train)\n",
        "y_pred = knn.predict(x_test)\n",
        "print(classification_report(y_test, y_pred))"
      ],
      "metadata": {
        "colab": {
          "base_uri": "https://localhost:8080/"
        },
        "id": "QY0HNBOwayW6",
        "outputId": "1b9a0fa7-ff22-4261-c4c3-a4eb5a8773d7"
      },
      "execution_count": 76,
      "outputs": [
        {
          "output_type": "stream",
          "name": "stdout",
          "text": [
            "              precision    recall  f1-score   support\n",
            "\n",
            "        -1.0       0.71      0.81      0.75     29965\n",
            "         1.0       0.77      0.66      0.71     29763\n",
            "\n",
            "    accuracy                           0.73     59728\n",
            "   macro avg       0.74      0.73      0.73     59728\n",
            "weighted avg       0.74      0.73      0.73     59728\n",
            "\n"
          ]
        }
      ]
    },
    {
      "cell_type": "markdown",
      "source": [
        "Model yang dipilih adalah Random Forest"
      ],
      "metadata": {
        "id": "F___vfwQtqim"
      }
    },
    {
      "cell_type": "markdown",
      "source": [
        "# Hyperparameter Tuning"
      ],
      "metadata": {
        "id": "MplK_4xMtnge"
      }
    },
    {
      "cell_type": "markdown",
      "source": [
        "Dilakukan hyperparameter tuning untuk model terpilih Random Forest."
      ],
      "metadata": {
        "id": "crLrhmSBRdo2"
      }
    },
    {
      "cell_type": "code",
      "source": [
        "param = [\n",
        "    {\n",
        "        'max_depth': list(range(2,5))+[None],\n",
        "        'max_features': ['sqrt','log2', None],\n",
        "        'min_samples_leaf': list(range(2,5)),\n",
        "        'min_samples_split': list(range(2,5)),\n",
        "        'class_weight': [{0:1, 1:3.33,}, \"balanced\"]\n",
        "    }\n",
        "]"
      ],
      "metadata": {
        "id": "zqes0uDMuBPd"
      },
      "execution_count": 79,
      "outputs": []
    },
    {
      "cell_type": "code",
      "source": [
        "rscv_rf = RandomizedSearchCV(randof, param, cv = 2, n_jobs = -1, verbose= 0, random_state = 42, n_iter = 50)\n",
        "rscv_rf.fit(x_train, y_train)\n",
        "y_pred = rscv_rf.predict(x_test)\n",
        "\n",
        "auc = roc_auc_score(y_test, y_pred)\n",
        "klasif = classification_report(y_test, y_pred)\n",
        "\n",
        "print(\"Testing AUC: {}\".format(auc))\n",
        "print(\"Testing Klasifikasi report: \\n{}\".format(klasif))\n",
        "\n",
        "print(\"Best param: {}\".format(rscv_rf.best_params_))"
      ],
      "metadata": {
        "colab": {
          "base_uri": "https://localhost:8080/"
        },
        "id": "Q5vyD4hqv9SV",
        "outputId": "50c7d2e5-4678-4201-913c-16e2fb3d7edc"
      },
      "execution_count": 80,
      "outputs": [
        {
          "output_type": "stream",
          "name": "stdout",
          "text": [
            "Testing AUC: 0.9142215526688875\n",
            "Testing Klasifikasi report: \n",
            "              precision    recall  f1-score   support\n",
            "\n",
            "        -1.0       0.89      0.94      0.92     29965\n",
            "         1.0       0.94      0.89      0.91     29763\n",
            "\n",
            "    accuracy                           0.91     59728\n",
            "   macro avg       0.92      0.91      0.91     59728\n",
            "weighted avg       0.92      0.91      0.91     59728\n",
            "\n",
            "Best param: {'min_samples_split': 3, 'min_samples_leaf': 3, 'max_features': None, 'max_depth': None, 'class_weight': 'balanced'}\n"
          ]
        }
      ]
    },
    {
      "cell_type": "code",
      "source": [],
      "metadata": {
        "id": "TCaWuOnyde2K"
      },
      "execution_count": null,
      "outputs": []
    }
  ]
}